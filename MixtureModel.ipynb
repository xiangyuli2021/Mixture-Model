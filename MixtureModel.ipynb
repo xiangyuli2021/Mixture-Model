{
 "cells": [
  {
   "cell_type": "markdown",
   "id": "e6a942d5",
   "metadata": {},
   "source": [
    "# STA 2536 Project - 1 Estimation in a Mixture Model\n",
    "\n",
    "Author: Xiangyu Li, Yuwei Feng, Dawei Dong"
   ]
  },
  {
   "cell_type": "markdown",
   "id": "f98409cc",
   "metadata": {},
   "source": [
    "## Abstract\n",
    "\n",
    "We have the data $({X_i})_i\\epsilon \\mathfrak{N}$, where $(\\mathfrak{N} = {1,...,n})$\n",
    "\n",
    "Each $x_i$ is a 3-d data observation, and we have the following distributions\n",
    "\n",
    "$$X_{1|Y}\\sim N(\\mu_y;\\sigma_Y^2)$$\n",
    "$$X_{2|Y}\\sim exp(\\lambda_Y)$$\n",
    "$$X_{3|Y}\\sim Cat_Y(K)$$\n",
    "\n",
    "We will perform various estimations on this data set and doing the classfication using th EM estimation "
   ]
  },
  {
   "cell_type": "code",
   "execution_count": 1,
   "id": "6cd8429a",
   "metadata": {},
   "outputs": [],
   "source": [
    "## import the library\n",
    "import numpy as np\n",
    "import pandas as pd\n",
    "import matplotlib.pyplot as plt\n",
    "import seaborn as sns\n",
    "import warnings\n",
    "import scipy.stats as st\n",
    "warnings.filterwarnings('ignore')\n",
    "\n",
    "import matplotlib.pylab as pylab\n",
    "params = {'legend.fontsize': 'x-large',\n",
    "          'figure.figsize': (15, 5),\n",
    "         'axes.labelsize': 'x-large',\n",
    "         'axes.titlesize':'x-large',\n",
    "         'xtick.labelsize':'x-large',\n",
    "         'ytick.labelsize':'x-large'}\n",
    "pylab.rcParams.update(params)"
   ]
  },
  {
   "cell_type": "markdown",
   "id": "d0a98ca6",
   "metadata": {},
   "source": [
    "## 1. Import Dataset"
   ]
  },
  {
   "cell_type": "code",
   "execution_count": 2,
   "id": "c0f6254e",
   "metadata": {},
   "outputs": [],
   "source": [
    "data = pd.read_csv(\"Data.csv\",header=None)\n",
    "\n",
    "# select the first three columns from the dataframe\n",
    "data = data.iloc[:,:3]\n",
    "\n",
    "# preview the data\n",
    "data.columns = [\"X1\",\"X2\",\"X3\"]"
   ]
  },
  {
   "cell_type": "code",
   "execution_count": 3,
   "id": "5b169287",
   "metadata": {},
   "outputs": [
    {
     "name": "stdout",
     "output_type": "stream",
     "text": [
      "<class 'pandas.core.frame.DataFrame'>\n",
      "RangeIndex: 1000 entries, 0 to 999\n",
      "Data columns (total 3 columns):\n",
      " #   Column  Non-Null Count  Dtype  \n",
      "---  ------  --------------  -----  \n",
      " 0   X1      1000 non-null   float64\n",
      " 1   X2      1000 non-null   float64\n",
      " 2   X3      1000 non-null   int64  \n",
      "dtypes: float64(2), int64(1)\n",
      "memory usage: 23.6 KB\n"
     ]
    }
   ],
   "source": [
    "# review the data information\n",
    "data.info()"
   ]
  },
  {
   "cell_type": "code",
   "execution_count": 4,
   "id": "21d77173",
   "metadata": {},
   "outputs": [
    {
     "data": {
      "text/html": [
       "<div>\n",
       "<style scoped>\n",
       "    .dataframe tbody tr th:only-of-type {\n",
       "        vertical-align: middle;\n",
       "    }\n",
       "\n",
       "    .dataframe tbody tr th {\n",
       "        vertical-align: top;\n",
       "    }\n",
       "\n",
       "    .dataframe thead th {\n",
       "        text-align: right;\n",
       "    }\n",
       "</style>\n",
       "<table border=\"1\" class=\"dataframe\">\n",
       "  <thead>\n",
       "    <tr style=\"text-align: right;\">\n",
       "      <th></th>\n",
       "      <th>X1</th>\n",
       "      <th>X2</th>\n",
       "      <th>X3</th>\n",
       "    </tr>\n",
       "  </thead>\n",
       "  <tbody>\n",
       "    <tr>\n",
       "      <th>count</th>\n",
       "      <td>1000.000000</td>\n",
       "      <td>1000.000000</td>\n",
       "      <td>1000.00000</td>\n",
       "    </tr>\n",
       "    <tr>\n",
       "      <th>mean</th>\n",
       "      <td>0.297597</td>\n",
       "      <td>2.930605</td>\n",
       "      <td>3.26500</td>\n",
       "    </tr>\n",
       "    <tr>\n",
       "      <th>std</th>\n",
       "      <td>1.309530</td>\n",
       "      <td>6.314729</td>\n",
       "      <td>1.11086</td>\n",
       "    </tr>\n",
       "    <tr>\n",
       "      <th>min</th>\n",
       "      <td>-3.073000</td>\n",
       "      <td>0.000000</td>\n",
       "      <td>1.00000</td>\n",
       "    </tr>\n",
       "    <tr>\n",
       "      <th>25%</th>\n",
       "      <td>-0.945225</td>\n",
       "      <td>0.086825</td>\n",
       "      <td>3.00000</td>\n",
       "    </tr>\n",
       "    <tr>\n",
       "      <th>50%</th>\n",
       "      <td>0.053100</td>\n",
       "      <td>0.592550</td>\n",
       "      <td>3.00000</td>\n",
       "    </tr>\n",
       "    <tr>\n",
       "      <th>75%</th>\n",
       "      <td>1.529950</td>\n",
       "      <td>2.148125</td>\n",
       "      <td>4.00000</td>\n",
       "    </tr>\n",
       "    <tr>\n",
       "      <th>max</th>\n",
       "      <td>3.703800</td>\n",
       "      <td>66.449500</td>\n",
       "      <td>5.00000</td>\n",
       "    </tr>\n",
       "  </tbody>\n",
       "</table>\n",
       "</div>"
      ],
      "text/plain": [
       "                X1           X2          X3\n",
       "count  1000.000000  1000.000000  1000.00000\n",
       "mean      0.297597     2.930605     3.26500\n",
       "std       1.309530     6.314729     1.11086\n",
       "min      -3.073000     0.000000     1.00000\n",
       "25%      -0.945225     0.086825     3.00000\n",
       "50%       0.053100     0.592550     3.00000\n",
       "75%       1.529950     2.148125     4.00000\n",
       "max       3.703800    66.449500     5.00000"
      ]
     },
     "execution_count": 4,
     "metadata": {},
     "output_type": "execute_result"
    }
   ],
   "source": [
    "# review the data information\n",
    "data.describe()"
   ]
  },
  {
   "cell_type": "markdown",
   "id": "e055fe3c",
   "metadata": {},
   "source": [
    "From the data table, we could notice that x1 and x2 are continuous variables, x3 is categorical variable."
   ]
  },
  {
   "cell_type": "markdown",
   "id": "4d1811ce",
   "metadata": {},
   "source": [
    "Check for the rows containing 0 value in feature X2"
   ]
  },
  {
   "cell_type": "code",
   "execution_count": 5,
   "id": "e259db7c",
   "metadata": {},
   "outputs": [
    {
     "data": {
      "text/plain": [
       "X1    2.7038\n",
       "X2    0.0000\n",
       "X3    5.0000\n",
       "Name: 702, dtype: float64"
      ]
     },
     "execution_count": 5,
     "metadata": {},
     "output_type": "execute_result"
    }
   ],
   "source": [
    "data.iloc[702,:]"
   ]
  },
  {
   "cell_type": "code",
   "execution_count": 6,
   "id": "3579c472",
   "metadata": {},
   "outputs": [
    {
     "data": {
      "text/plain": [
       "X1    1.7522\n",
       "X2    0.0000\n",
       "X3    1.0000\n",
       "Name: 933, dtype: float64"
      ]
     },
     "execution_count": 6,
     "metadata": {},
     "output_type": "execute_result"
    }
   ],
   "source": [
    "data.iloc[933,:]"
   ]
  },
  {
   "cell_type": "markdown",
   "id": "8dc754c5",
   "metadata": {},
   "source": [
    "Based on the discussion in Piazza, we deleted these two rows in the following analysis."
   ]
  },
  {
   "cell_type": "code",
   "execution_count": 7,
   "id": "d257daaa",
   "metadata": {},
   "outputs": [],
   "source": [
    "data_processed = data.drop([702,933])"
   ]
  },
  {
   "cell_type": "code",
   "execution_count": 8,
   "id": "2f504998",
   "metadata": {},
   "outputs": [
    {
     "name": "stdout",
     "output_type": "stream",
     "text": [
      "<class 'pandas.core.frame.DataFrame'>\n",
      "Int64Index: 998 entries, 0 to 999\n",
      "Data columns (total 3 columns):\n",
      " #   Column  Non-Null Count  Dtype  \n",
      "---  ------  --------------  -----  \n",
      " 0   X1      998 non-null    float64\n",
      " 1   X2      998 non-null    float64\n",
      " 2   X3      998 non-null    int64  \n",
      "dtypes: float64(2), int64(1)\n",
      "memory usage: 31.2 KB\n"
     ]
    }
   ],
   "source": [
    "data_processed.info()"
   ]
  },
  {
   "cell_type": "markdown",
   "id": "bad58c8e",
   "metadata": {},
   "source": [
    "## 2. Explore the Univariate Empirical Distributions of Each Feature\n",
    "\n",
    "### 2.1 Univariate Distribution of Feature $X_1$"
   ]
  },
  {
   "cell_type": "code",
   "execution_count": 9,
   "id": "cdac668d",
   "metadata": {},
   "outputs": [
    {
     "data": {
      "image/png": "[encoded data removed]",
      "text/plain": [
       "<Figure size 720x432 with 1 Axes>"
      ]
     },
     "metadata": {
      "needs_background": "light"
     },
     "output_type": "display_data"
    }
   ],
   "source": [
    "# univariate distribution of feature X1\n",
    "fig, ax=plt.subplots(figsize=(10,6))\n",
    "sns.distplot(data_processed['X1']);\n",
    "plt.xlabel(r'$X_1$');\n",
    "plt.title(\"Univariate Distribution of Feature $X_1$\");"
   ]
  },
  {
   "cell_type": "markdown",
   "id": "d209cf4d",
   "metadata": {},
   "source": [
    "### 2.2 Univariate Distribution of Feature $X_2$"
   ]
  },
  {
   "cell_type": "code",
   "execution_count": 10,
   "id": "fb9e188a",
   "metadata": {},
   "outputs": [
    {
     "data": {
      "image/png": "[encoded data removed]",
      "text/plain": [
       "<Figure size 720x432 with 1 Axes>"
      ]
     },
     "metadata": {
      "needs_background": "light"
     },
     "output_type": "display_data"
    }
   ],
   "source": [
    "# univariate distribution of feature X2\n",
    "fig, ax=plt.subplots(figsize=(10,6))\n",
    "sns.distplot(data_processed['X2'],kde_kws={'clip': (0.0, 70.0)});\n",
    "plt.xlabel(r'$X_2$');\n",
    "plt.title(\"Univariate Distribution of Feature $X_2$\");"
   ]
  },
  {
   "cell_type": "markdown",
   "id": "3d0e9d8c",
   "metadata": {},
   "source": [
    "### 2.3 Univariate Distribution of Feature $X_3$"
   ]
  },
  {
   "cell_type": "code",
   "execution_count": 11,
   "id": "7677a4ec",
   "metadata": {},
   "outputs": [
    {
     "data": {
      "image/png": "[encoded data removed]",
      "text/plain": [
       "<Figure size 360x360 with 1 Axes>"
      ]
     },
     "metadata": {
      "needs_background": "light"
     },
     "output_type": "display_data"
    }
   ],
   "source": [
    "# univariate distribution of feature X3\n",
    "sns.catplot(x=\"X3\",kind=\"count\",data=data_processed);\n",
    "plt.xlabel(r'$X_3$');\n",
    "plt.title('Univariate Distribution of Feature $X_3$');"
   ]
  },
  {
   "cell_type": "markdown",
   "id": "e3b1d9f3",
   "metadata": {},
   "source": [
    "We noted that $X_3$ has 5 categories."
   ]
  },
  {
   "cell_type": "markdown",
   "id": "ea0db01d",
   "metadata": {},
   "source": [
    "## 3. Explore the Pairwise Bivariate Empirical Distribution Among Three Features"
   ]
  },
  {
   "cell_type": "markdown",
   "id": "d8adebb7",
   "metadata": {},
   "source": [
    "To explore the pairwise bivariate empirical distribution, we investigated the empirical distribution of $X_1|X_3$, $X_2|X_3$ and the relationship between $X_1$ and $X_2$"
   ]
  },
  {
   "cell_type": "markdown",
   "id": "8e8d70eb",
   "metadata": {},
   "source": [
    "### 3.1 Pairwise Bivariate Empirical Distribution between $X_1$ and $X_3$"
   ]
  },
  {
   "cell_type": "markdown",
   "id": "397073f1",
   "metadata": {},
   "source": [
    "We first used a box plot, to explore the $X_1$ empirical distribution given each category of $X_3$."
   ]
  },
  {
   "cell_type": "code",
   "execution_count": 12,
   "id": "2f1a8ffa",
   "metadata": {},
   "outputs": [
    {
     "data": {
      "image/png": "[encoded data removed]",
      "text/plain": [
       "<Figure size 360x360 with 1 Axes>"
      ]
     },
     "metadata": {
      "needs_background": "light"
     },
     "output_type": "display_data"
    }
   ],
   "source": [
    "# pairwise bivariate empirical distribution of X1 & X3\n",
    "sns.catplot(x=\"X3\", y=\"X1\", kind=\"box\", data=data_processed);\n",
    "plt.xlabel(r'$X_3$');\n",
    "plt.ylabel(r'$X_1$');\n",
    "plt.title('Pairwise bivariate empirical distribution of $X_1$ and $X_3$');"
   ]
  },
  {
   "cell_type": "markdown",
   "id": "40807943",
   "metadata": {},
   "source": [
    "Then, we generated a kde plot to visualize $X_1$ distribution given each category of $X_3$."
   ]
  },
  {
   "cell_type": "code",
   "execution_count": 13,
   "id": "54cc8aa7",
   "metadata": {},
   "outputs": [
    {
     "data": {
      "image/png": "[encoded data removed]",
      "text/plain": [
       "<Figure size 792x576 with 1 Axes>"
      ]
     },
     "metadata": {
      "needs_background": "light"
     },
     "output_type": "display_data"
    }
   ],
   "source": [
    "fig, ax = plt.subplots(figsize=(11,8))\n",
    "for i in range(1,6):\n",
    "    sns.kdeplot(data_processed[data_processed['X3']==i].iloc[:,0],label='Category ' + str(i))\n",
    "plt.xlabel(r'$X_1$')\n",
    "plt.legend(loc='best');"
   ]
  },
  {
   "cell_type": "markdown",
   "id": "32d766c4",
   "metadata": {},
   "source": [
    "### 3.2 Pairwise Bivariate Empirical Distribution between $X_2$ and $X_3$"
   ]
  },
  {
   "cell_type": "markdown",
   "id": "157713a3",
   "metadata": {},
   "source": [
    "We first used a box plot, to explore the $X_2$ empirical distribution given each category of $X_3$."
   ]
  },
  {
   "cell_type": "code",
   "execution_count": 14,
   "id": "adb44137",
   "metadata": {},
   "outputs": [
    {
     "data": {
      "image/png": "[encoded data removed]",
      "text/plain": [
       "<Figure size 360x360 with 1 Axes>"
      ]
     },
     "metadata": {
      "needs_background": "light"
     },
     "output_type": "display_data"
    }
   ],
   "source": [
    "# pairwise bivariate empirical distribution of X2 & X3\n",
    "sns.catplot(x=\"X3\",y=\"X2\",kind=\"box\",data=data_processed);\n",
    "plt.xlabel(r'$X_3$');\n",
    "plt.ylabel(r'$X_2$');\n",
    "plt.title('Pairwise bivariate empirical distribution of $X_2$ and $X_3$');"
   ]
  },
  {
   "cell_type": "markdown",
   "id": "48f5d879",
   "metadata": {},
   "source": [
    "Because the boxplot of this pairwise bivariate empirical distribution was not quite clear, we use several other plots to explore this item."
   ]
  },
  {
   "cell_type": "code",
   "execution_count": 15,
   "id": "0a802f35",
   "metadata": {},
   "outputs": [
    {
     "data": {
      "image/png": "[encoded data removed]",
      "text/plain": [
       "<Figure size 360x360 with 1 Axes>"
      ]
     },
     "metadata": {
      "needs_background": "light"
     },
     "output_type": "display_data"
    }
   ],
   "source": [
    "# pairwise bivariate empirical distribution of X2 & X3\n",
    "sns.catplot(x=\"X3\",y=\"X2\",jitter=False,data=data_processed);\n",
    "plt.xlabel(r'$X_3$');\n",
    "plt.ylabel(r'$X_2$');\n",
    "plt.title('Pairwise bivariate empirical distribution of $X_2$ and $X_3$');"
   ]
  },
  {
   "cell_type": "code",
   "execution_count": 16,
   "id": "011f3b05",
   "metadata": {},
   "outputs": [
    {
     "data": {
      "image/png": "[encoded data removed]",
      "text/plain": [
       "<Figure size 360x360 with 1 Axes>"
      ]
     },
     "metadata": {
      "needs_background": "light"
     },
     "output_type": "display_data"
    }
   ],
   "source": [
    "# pairwise bivariate empirical distribution of X2 & X3\n",
    "sns.catplot(x=\"X3\",y=\"X2\",kind=\"swarm\",data=data_processed);\n",
    "plt.xlabel(r'$X_3$');\n",
    "plt.ylabel(r'$X_2$');\n",
    "plt.title('Pairwise bivariate empirical distribution of $X_2$ and $X_3$');"
   ]
  },
  {
   "cell_type": "code",
   "execution_count": 17,
   "id": "a7611de1",
   "metadata": {},
   "outputs": [
    {
     "data": {
      "image/png": "[encoded data removed]",
      "text/plain": [
       "<Figure size 792x576 with 1 Axes>"
      ]
     },
     "metadata": {
      "needs_background": "light"
     },
     "output_type": "display_data"
    }
   ],
   "source": [
    "fig, ax = plt.subplots(figsize=(11,8))\n",
    "for i in range(1,6):\n",
    "    sns.kdeplot(data[data['X3']==i].iloc[:,1],label='Category ' + str(i))\n",
    "plt.xlabel(r'$X_2$')\n",
    "plt.legend(loc='best');"
   ]
  },
  {
   "cell_type": "markdown",
   "id": "004dc57e",
   "metadata": {},
   "source": [
    "### 3.3 Pairwise Bivariate Empirical Distribution between $X_1$ and $X_2$"
   ]
  },
  {
   "cell_type": "code",
   "execution_count": 18,
   "id": "a2c0e4fd",
   "metadata": {},
   "outputs": [
    {
     "data": {
      "image/png": "[encoded data removed]",
      "text/plain": [
       "<Figure size 720x432 with 1 Axes>"
      ]
     },
     "metadata": {
      "needs_background": "light"
     },
     "output_type": "display_data"
    }
   ],
   "source": [
    "fig, ax=plt.subplots(figsize=(10,6))\n",
    "sns.scatterplot(x=\"X1\",y=\"X2\",data=data_processed);\n",
    "plt.xlabel(r'$X_1$');\n",
    "plt.ylabel(r'$X_2$');\n",
    "plt.title('Pairwise bivariate empirical distribution of $X_1$ and $X_2$');"
   ]
  },
  {
   "cell_type": "markdown",
   "id": "a10b2e71",
   "metadata": {},
   "source": [
    "## 4. Dependence Between Features"
   ]
  },
  {
   "cell_type": "markdown",
   "id": "7a47d65d",
   "metadata": {},
   "source": [
    "To ensure we could have a categorical feature, we first created a new dataframe where feature $X_3$ has a categorical datatype."
   ]
  },
  {
   "cell_type": "code",
   "execution_count": 19,
   "id": "74fd44ac",
   "metadata": {},
   "outputs": [],
   "source": [
    "data_processed['X3 category'] = pd.Categorical(data_processed['X3'])"
   ]
  },
  {
   "cell_type": "code",
   "execution_count": 20,
   "id": "da1b2198",
   "metadata": {},
   "outputs": [
    {
     "name": "stdout",
     "output_type": "stream",
     "text": [
      "<class 'pandas.core.frame.DataFrame'>\n",
      "Int64Index: 998 entries, 0 to 999\n",
      "Data columns (total 4 columns):\n",
      " #   Column       Non-Null Count  Dtype   \n",
      "---  ------       --------------  -----   \n",
      " 0   X1           998 non-null    float64 \n",
      " 1   X2           998 non-null    float64 \n",
      " 2   X3           998 non-null    int64   \n",
      " 3   X3 category  998 non-null    category\n",
      "dtypes: category(1), float64(2), int64(1)\n",
      "memory usage: 64.7 KB\n"
     ]
    }
   ],
   "source": [
    "data_processed.info()"
   ]
  },
  {
   "cell_type": "code",
   "execution_count": 21,
   "id": "1a3a93fb",
   "metadata": {},
   "outputs": [
    {
     "name": "stdout",
     "output_type": "stream",
     "text": [
      "<class 'pandas.core.frame.DataFrame'>\n",
      "Int64Index: 998 entries, 0 to 999\n",
      "Data columns (total 3 columns):\n",
      " #   Column  Non-Null Count  Dtype   \n",
      "---  ------  --------------  -----   \n",
      " 0   X1      998 non-null    float64 \n",
      " 1   X2      998 non-null    float64 \n",
      " 2   X3      998 non-null    category\n",
      "dtypes: category(1), float64(2)\n",
      "memory usage: 56.9 KB\n"
     ]
    }
   ],
   "source": [
    "d = {'X1':data_processed['X1'],'X2':data_processed['X2'],'X3':data_processed['X3 category']}\n",
    "data_category = pd.DataFrame(data=d)\n",
    "data_category.info()"
   ]
  },
  {
   "cell_type": "markdown",
   "id": "814ebbd1",
   "metadata": {},
   "source": [
    "As can be seen from the heat-map, the numerical features appear\n",
    "have a negative correlation with each other."
   ]
  },
  {
   "cell_type": "markdown",
   "id": "998cf2f7",
   "metadata": {},
   "source": [
    "### 4.1 $X_1$ and $X_2$ Dependence"
   ]
  },
  {
   "cell_type": "code",
   "execution_count": 22,
   "id": "c9308fec",
   "metadata": {},
   "outputs": [
    {
     "data": {
      "image/png": "[encoded data removed]",
      "text/plain": [
       "<Figure size 720x432 with 2 Axes>"
      ]
     },
     "metadata": {
      "needs_background": "light"
     },
     "output_type": "display_data"
    }
   ],
   "source": [
    "corr = data_category.corr(method='kendall');\n",
    "ax = plt.subplots(figsize=(10,6))\n",
    "ax = sns.heatmap(corr, cmap='YlGnBu');"
   ]
  },
  {
   "cell_type": "markdown",
   "id": "17b09fe3",
   "metadata": {},
   "source": [
    "As can be seen from the heat-map, the numerical features appeared have a negative correlation with each other."
   ]
  },
  {
   "cell_type": "markdown",
   "id": "2aad8c3c",
   "metadata": {},
   "source": [
    "To quantify the two numerical features $X_1$ and $X_2$ dependence, we used pearson correlation coefficient."
   ]
  },
  {
   "cell_type": "code",
   "execution_count": 23,
   "id": "f6283472",
   "metadata": {},
   "outputs": [
    {
     "name": "stdout",
     "output_type": "stream",
     "text": [
      "Pearson correlation coefficient between $X_1$ and $X_2$ is: -0.39\n"
     ]
    }
   ],
   "source": [
    "import scipy\n",
    "pearson, p_value = st.pearsonr(data_processed[\"X1\"],data_processed[\"X2\"])\n",
    "print('Pearson correlation coefficient between $X_1$ and $X_2$ is:', round(pearson,2))"
   ]
  },
  {
   "cell_type": "markdown",
   "id": "69b155dd",
   "metadata": {},
   "source": [
    "It can be seen that he two numerical features $X_1$ and $X_2$ have a pearson correlation coefficient of -0.39, which indicats a negative correlation between these two features, however, the correlation is too weak to consider. "
   ]
  },
  {
   "cell_type": "markdown",
   "id": "2c2e804e",
   "metadata": {},
   "source": [
    "### 4.2 $X_1$ and $X_3$ Dependence"
   ]
  },
  {
   "cell_type": "code",
   "execution_count": 24,
   "id": "44447e61",
   "metadata": {},
   "outputs": [
    {
     "name": "stdout",
     "output_type": "stream",
     "text": [
      "Spearman correlation coefficient between $X_1$ and $X_3$ is: 0.06\n"
     ]
    }
   ],
   "source": [
    "spearman, p_value = scipy.stats.spearmanr(data_processed[\"X1\"],data_processed[\"X3\"])\n",
    "print('Spearman correlation coefficient between $X_1$ and $X_3$ is:', round(spearman,2))"
   ]
  },
  {
   "cell_type": "markdown",
   "id": "1793bd50",
   "metadata": {},
   "source": [
    "The Spearman rank-order correlation coefficient is a nonparametric measure of the monotonicity of the relationship between two datasets. Unlike the Pearson correlation, the Spearman correlation does not assume that both datasets are normally distributed. As the spearman correlation is only 0.06, we consider the dependence between $X_1$ and $X_3$ is weak."
   ]
  },
  {
   "cell_type": "markdown",
   "id": "a2c503f6",
   "metadata": {},
   "source": [
    "### 4.3 $X_2$ and $X_3$ Dependence"
   ]
  },
  {
   "cell_type": "code",
   "execution_count": 25,
   "id": "94fc31a3",
   "metadata": {},
   "outputs": [
    {
     "name": "stdout",
     "output_type": "stream",
     "text": [
      "Spearman correlation coefficient between $X_2$ and $X_3$ is: -0.08\n"
     ]
    }
   ],
   "source": [
    "spearman, p_value = scipy.stats.spearmanr(data_processed[\"X2\"],data_processed[\"X3\"])\n",
    "print('Spearman correlation coefficient between $X_2$ and $X_3$ is:', round(spearman,2))"
   ]
  },
  {
   "cell_type": "markdown",
   "id": "9672f5e7",
   "metadata": {},
   "source": [
    "Similar to the result above, the Spearman correlation coefficient between $X_1$ and $X_3$ is small, thus, we consider the dependence between $X_2$ and $X_3$ is weak."
   ]
  },
  {
   "cell_type": "markdown",
   "id": "d731778d",
   "metadata": {},
   "source": [
    "## 5. EM Estimation to Classify the Features given Latent Labels"
   ]
  },
  {
   "cell_type": "markdown",
   "id": "268c42ef",
   "metadata": {},
   "source": [
    "### 5.1 EM-algorithm Update Rules for $X_1$, $X_2$ and $X_3$ Parameters"
   ]
  },
  {
   "cell_type": "markdown",
   "id": "3c1ac1bf",
   "metadata": {},
   "source": [
    "Considering the Gaussian and Exponential mixture model for $X_1$ and $X_2$:\n",
    "\\begin{equation}\n",
    "X_1|_Y \\sim N(\\mu_Y;\\sigma_Y^2) \\\\\n",
    "X_2|_Y \\sim exp(\\lambda_Y)\n",
    "\\end{equation}\n",
    "\n",
    "The expected completed data log-likelihood is in the following form:\n",
    "\\begin{equation}\n",
    "\\mathbb{E}^{\\Theta^{(k)}}[\\overline{\\ell}(\\Theta)] = \\sum_{j\\in\\mathbb{N}}\\sum_{y\\in\\mathbb{Y}}\\gamma^{(k)}_{jy}\\log g_y(x_j|\\boldsymbol\\theta) + \\sum_{j\\in\\mathbb{N}}\\sum_{y\\in\\mathbb{Y}}\\gamma^{(k)}_{jy}\\log \\pi_y\n",
    "\\end{equation}\n",
    "\n",
    "We first calculate the first term:\n",
    "\\begin{equation}\n",
    "\\widetilde{\\ell}(\\Theta) = \\sum_{j\\in\\mathbb{N}}\\sum_{y\\in\\mathbb{Y}}\\gamma^{(k)}_{jy}\\log g_y(x_j|\\boldsymbol\\theta) \\\\\n",
    " = \\sum_{j\\in\\mathbb{N}}\\sum_{y\\in\\mathbb{Y}}\\gamma^{(k)}_{jy}\\log[(\\frac{1}{\\sigma_y\\sqrt{2\\pi}}e^{-\\frac{1}{2}(\\frac{x_j-\\mu_y}{\\sigma_y})^2}\\cdot\\lambda_ye^{-\\lambda_y x_j}]\\, \\\\\n",
    "= \\sum_{j\\in\\mathbb{N}}\\sum_{y\\in\\mathbb{Y}}\\gamma^{(k)}_{jy}[\\log\\frac{1}{\\sigma_y\\sqrt{2\\pi}}-\\frac{1}{2}(\\frac{x_j-\\mu_y}{\\sigma_y})^2+\\log(\\lambda_y)-(\\lambda_yx_j)] \\\\\n",
    "\\end{equation}\n",
    "\n",
    "To update the parameter, we take the first derivative of the above equation, set the first derivate equal to zero and we obtain the following update rules for each model parameter.\n",
    "\n",
    "* Update the parameter $\\lambda_y$:\n",
    "\\begin{equation}\n",
    "\\frac{\\partial \\widetilde{\\ell}(\\Theta)}{\\partial \\lambda_y} = \\sum_{j\\in\\mathbb{N}}\\gamma^{(k)}_{jy}(-x_j+\\frac{1}{\\lambda_y}) = 0 \\\\\n",
    "\\lambda_y^{(k+1)} = \\frac{\\sum_{j\\in\\mathbb{N}}\\gamma^{(k)}_{jy}}{\\sum_{j\\in\\mathbb{N}}\\gamma^{(k)}_{jy}x_j}\n",
    "\\end{equation} \n",
    "\n",
    "* Update the parameter $\\mu_y$:\n",
    "\\begin{equation}\n",
    "\\frac{\\partial \\widetilde{\\ell}(\\Theta)}{\\partial \\mu_{y}}=\\sum_{j \\in \\mathbb{N}} \\gamma_{jy}^{(k)},\\left(-\\frac{1}{\\sigma_{y}^{2}}\\left(x_{j}-\\mu_{y}\\right)\\right)\\\\\n",
    "\\sum_{j \\in \\mathbb{N}} \\gamma_{j y}^{(k)} \\frac{1}{\\sigma_{y}^{2}}\\left(\\mu_{y}-x_{j}\\right) \\stackrel{!}{=} 0 \\\\\n",
    "\\sum_{j \\in \\mathbb{N}} Y_{i y}^{(k)} \\frac{1}{\\sigma_{y}^2} \\cdot \\mu_{y}- \\frac{1}{\\sigma_{y}^2} \\sum_{j \\in \\pi} \\gamma_{j y}^{(k)} x_{j}=0 \\\\ \n",
    "\\mu_{y}^{(k+1)}=\\frac{\\sum_{j \\in \\mathbb{N}} \\gamma_{i y}^{(k)} x_{j}}{\\sum_{j \\in \\mathbb{N}} \\gamma_{j y}^{(k)}}\n",
    "\\end{equation}\n",
    "\n",
    "* Update the parameter ${\\sigma_y}^2$:\n",
    "\\begin{equation}\n",
    "\\frac{\\partial \\widetilde{\\ell}(\\theta)}{\\partial \\sigma_{y}^2}=\\sum_{j \\in \\mathbb{N}} \\gamma_{j y}^{(k)} \\cdot\\left[-\\frac{1}{\\sigma_{y}}-\\frac{1}{2}(-2) \\cdot \\sigma_{y}^{-3} \\cdot\\left(x_{j}-\\mu_{y}\\right)^{2}\\right]\\\\\n",
    "-\\sum_{j \\in \\mathbb{N}} \\gamma_{j y}^{(l)} \\cdot \\frac{1}{\\sigma_{y}}+\\sum_{j \\in \\mathbb{N}} \\gamma_{j y}^{(k)} \\cdot \\frac{1}{\\sigma_{y^{3}}}\\left(x_{j}-\\mu_{y}\\right)^{2}=0\\\\\n",
    "-\\sum_{j \\in \\mathbb{N}} \\gamma_{j y}^{(k)} \\sigma_{y}^{2}+\\sum_{j \\in \\mathbb{N}} \\gamma_{j y}^{(k)} \\cdot\\left(x_{j}-\\mu_{y}\\right)^2=0\\\\\n",
    "\\sigma_{y}^{2^{(k+1)}}=\\frac{\\sum_{j \\in \\mathbb{N}} \\gamma_{j y}^{(k)}\\left(x_{j}-\\mu_{y}\\right)^{2}}{\\sum_{j \\in \\mathbb{N}} \\gamma_{j y}^{(k)}}\n",
    "\\end{equation}\n",
    "\n",
    "* Update the parameter ${\\psi_{y,k}}$:\n",
    "\\begin{equation}\n",
    "\\sum_{j \\in \\mathbb{N}} \\sum_{y \\in \\mathfrak{C}} \\sum_{k \\in k} \\gamma_{j y c}^{(k)} \\log \\psi_{y, k}+\\eta \\cdot\\left(\\sum_{k=1}^{k} \\psi_{y, k}-1\\right)\\\\\n",
    "\\psi_{y, k}^{(k+1)}=\\frac{1}{\\eta} \\cdot \\sum_{j \\in N} \\gamma_{j y k}^{(k)}\\\\\n",
    "\\sum_{k=1}^{k} \\psi_{y k}^{(k+1)}=\\frac{1}{\\eta} \\sum_{k=1}^{k} \\sum_{j \\in \\mathbb{N}} \\gamma_{j y k}^{(k)}\\\\\n",
    "1=\\frac{1}{\\eta} \\sum_{k=1}^{K} \\sum_{j \\in \\mathbb{N}} \\gamma_{j y k}^{(k)}\\\\\n",
    "\\frac{1}{\\eta}=\\frac{1}{\\sum_{k=1}^{K} \\sum_{j \\in N} \\gamma_{j y k}(k)}\\\\\n",
    "\\psi_{y, c}(k+1)=\\frac{\\sum_{j \\in N} \\gamma_{j y k}(k)}{\\sum_{k=1}^{k} \\sum_{j \\in N} \\gamma_{j y k}(k)}\n",
    "\\end{equation}\n",
    "\n",
    "* Formula for gamma\n",
    "\\begin{equation}\n",
    "\\gamma_{j y}^{(k)}=h_{j}^{\\theta^{(k)}}(y)=\\mathbb{P}\\left(Y_{j}=y \\mid X_{j}=x_{j} ; \\theta\\right)\n",
    "=\\frac{g_{y}\\left(x_{j} \\mid \\theta^{(k)}\\right) \\cdot \\pi_{y}^{(k)}}{\\sum_{y^{\\prime} \\in Y} g_{y^{\\prime}}\\left(x_{j} \\mid \\theta^{(k)}\\right) \\pi_{y^{\\prime}}(k)}\\\\\n",
    "\\text { where } g_{y}\\left(x_{j} \\mid \\theta^{(k)}\\right) =\n",
    "\\left[\\frac{1}{\\sqrt{2 \\pi} \\sigma_{y}} e^{-\\frac{1}{2}\\left(\\frac{x_1-\\mu_{y}}{\\sigma y}\\right)^{2}}\\right] \\cdot\\left(\\lambda_{y} \\cdot e^{-\\lambda y \\cdot x_{2}}\\right) \\cdot \\psi_{y, k}\n",
    "\\end{equation}"
   ]
  },
  {
   "cell_type": "markdown",
   "id": "96039995",
   "metadata": {},
   "source": [
    "### 5.2 EM Algorithm Implementation"
   ]
  },
  {
   "cell_type": "markdown",
   "id": "6ef163b7",
   "metadata": {},
   "source": [
    "The feature data has been restored in a datafream called x, which has a shape of 998 rows and 3 columns."
   ]
  },
  {
   "cell_type": "code",
   "execution_count": 26,
   "id": "dbbe8c4c",
   "metadata": {},
   "outputs": [],
   "source": [
    "x = data_processed.iloc[:,:3]"
   ]
  },
  {
   "cell_type": "code",
   "execution_count": 27,
   "id": "90ab7f49",
   "metadata": {},
   "outputs": [
    {
     "name": "stdout",
     "output_type": "stream",
     "text": [
      "<class 'pandas.core.frame.DataFrame'>\n",
      "Int64Index: 998 entries, 0 to 999\n",
      "Data columns (total 3 columns):\n",
      " #   Column  Non-Null Count  Dtype  \n",
      "---  ------  --------------  -----  \n",
      " 0   X1      998 non-null    float64\n",
      " 1   X2      998 non-null    float64\n",
      " 2   X3      998 non-null    int64  \n",
      "dtypes: float64(2), int64(1)\n",
      "memory usage: 63.5 KB\n"
     ]
    }
   ],
   "source": [
    "x.info()"
   ]
  },
  {
   "cell_type": "markdown",
   "id": "aa5e7e02",
   "metadata": {},
   "source": [
    "#### 5.2.1 Implement EM using All Features"
   ]
  },
  {
   "cell_type": "markdown",
   "id": "12218d0e",
   "metadata": {},
   "source": [
    "The first step in EM Algorithm is to have an initial guess of the parameters."
   ]
  },
  {
   "cell_type": "code",
   "execution_count": 28,
   "id": "e55048d3",
   "metadata": {},
   "outputs": [],
   "source": [
    "def InitialGuess(x,K):\n",
    "    # generate an initial guess depending on the number of classes that are specified\n",
    "    \n",
    "    pi_h = np.ones(K)/K\n",
    "    mu_h = np.mean(x.iloc[:,0])\n",
    "    sigma_h = np.std(x.iloc[:,0])\n",
    "    lambda_h = 1.0/np.mean(x.iloc[:,1])\n",
    "    fi_h = np.ones(5)/5\n",
    "    \n",
    "    pi0 = pi_h*np.random.uniform(0.99,1.01,K)\n",
    "    pi0 = pi0 / sum(pi0)\n",
    "    fi0 = fi_h*np.random.uniform(0.99,1.01,5)\n",
    "    fi0 = fi0 / sum(fi0)\n",
    "    fi0 = np.tile(fi0,(K,1))\n",
    "    \n",
    "    mu0 = np.tile(mu_h,K) * np.random.uniform(0.99,1.01,K)\n",
    "    sigma0 = np.tile(sigma_h,K)\n",
    "    lambda0 = np.tile(lambda_h,K)*np.random.uniform(0.99,1.01,K)\n",
    "    \n",
    "    return pi0, mu0, sigma0, lambda0, fi0"
   ]
  },
  {
   "cell_type": "markdown",
   "id": "0c587eed",
   "metadata": {},
   "source": [
    "The second step in EM Algorithm is to calculate the responsibilities."
   ]
  },
  {
   "cell_type": "code",
   "execution_count": 29,
   "id": "fa6641fe",
   "metadata": {},
   "outputs": [],
   "source": [
    "def Responsibilities(x,pi,mu,sigma,lmbda,fi):\n",
    "    K = pi.size\n",
    "    g = np.zeros((K,x.shape[0]))\n",
    "    \n",
    "    for j in range(0,x.shape[0]):\n",
    "        \n",
    "        denom = 0\n",
    "    \n",
    "        for k in range(0,K):\n",
    "            \n",
    "            g[k,j] = pi[k]*st.norm.pdf(x.iloc[j,0],loc=mu[k],scale=sigma[k])*(lmbda[k]*np.exp(-lmbda[k]*x.iloc[j,1]))*fi[k,x.iloc[j,2]-1]\n",
    "            denom += g[k,j]\n",
    "            \n",
    "        for k in range(0,K):\n",
    "            g[k,j] /= denom\n",
    "    \n",
    "    return g"
   ]
  },
  {
   "cell_type": "markdown",
   "id": "f9b007f2",
   "metadata": {},
   "source": [
    "The m-step update rules are based on the derivations in Section 5.1."
   ]
  },
  {
   "cell_type": "code",
   "execution_count": 30,
   "id": "2e26d554",
   "metadata": {},
   "outputs": [],
   "source": [
    "def EM(x,pi,mu,sigma,lmbda,fi):\n",
    "    \n",
    "    K = pi.size\n",
    "    iteration = 100\n",
    "    \n",
    "    for m in range(iteration):\n",
    "        \n",
    "        # e-step\n",
    "        gamma = Responsibilities(x,pi,mu,sigma,lmbda,fi)\n",
    "        \n",
    "        # compute update to pi\n",
    "        numer = np.sum(gamma,axis=1)\n",
    "        denom = np.sum(numer)\n",
    "        pi = numer / denom\n",
    "        \n",
    "        # compute update to mu\n",
    "        numer2 = np.matmul(gamma,x.iloc[:,0])\n",
    "        denom2 = np.sum(gamma,axis=1)\n",
    "        for k in range(0,K):\n",
    "            mu[k] = numer2[k]/denom2[k]\n",
    "        \n",
    "        # compute update to sigma\n",
    "        denom3 = np.sum(gamma,axis=1)\n",
    "        for k in range(0,K):\n",
    "            sigma[k] = np.sqrt(np.matmul(gamma[k,:],(np.subtract(x.iloc[:,0],mu[k]))**2)/denom3[k])\n",
    "        \n",
    "        # compute update to lambda\n",
    "        numer4 = np.sum(gamma,axis=1)\n",
    "        denom4 = np.matmul(gamma,x.iloc[:,1])\n",
    "        for k in range(0,K):\n",
    "            lmbda[k] = numer4[k]/denom4[k]\n",
    "        \n",
    "        # extract each category's data index\n",
    "        category1 = []\n",
    "        category2 = []\n",
    "        category3 = []\n",
    "        category4 = []\n",
    "        category5 = []\n",
    "        for j in range(x.shape[0]):\n",
    "            if x.iloc[j,2] == 1:\n",
    "                category1.append(j)\n",
    "            if x.iloc[j,2] == 2:\n",
    "                category2.append(j)\n",
    "            if x.iloc[j,2] == 3:\n",
    "                category3.append(j)\n",
    "            if x.iloc[j,2] == 4:\n",
    "                category4.append(j)\n",
    "            if x.iloc[j,2] == 5:\n",
    "                category5.append(j)\n",
    "        \n",
    "        # compute update to fi when category is 1\n",
    "        denom5 = np.sum(gamma,axis=1)\n",
    "        for k in range(0,K):\n",
    "            numer5 = 0\n",
    "            for index in category1:\n",
    "                numer5 += gamma[k,index]\n",
    "                fi[k,0] = numer5/denom5[k]\n",
    "        \n",
    "        # compute update to fi when category is 2\n",
    "        for k in range(0,K):\n",
    "            numer5 = 0\n",
    "            for index in category2:\n",
    "                numer5 += gamma[k,index]\n",
    "                fi[k,1] = numer5/denom5[k]\n",
    "                \n",
    "        # compute update to fi when category is 3\n",
    "        for k in range(0,K):\n",
    "            numer5 = 0\n",
    "            for index in category3:\n",
    "                numer5 += gamma[k,index]\n",
    "                fi[k,2] = numer5/denom5[k]\n",
    "\n",
    "        # compute update to fi when category is 4\n",
    "        for k in range(0,K):\n",
    "            numer5 = 0\n",
    "            for index in category4:\n",
    "                numer5 += gamma[k,index]\n",
    "                fi[k,3] = numer5/denom5[k]\n",
    "\n",
    "        # compute update to fi when category is 5\n",
    "        for k in range(0,K):\n",
    "            numer5 = 0\n",
    "            for index in category5:\n",
    "                numer5 += gamma[k,index]\n",
    "                fi[k,4] = numer5/denom5[k]\n",
    "                \n",
    "    return pi, mu, sigma, lmbda, fi"
   ]
  },
  {
   "cell_type": "code",
   "execution_count": 35,
   "id": "21eeca05",
   "metadata": {},
   "outputs": [
    {
     "name": "stdout",
     "output_type": "stream",
     "text": [
      "-------- Kfit =  3 -------- \n",
      "   -- initial guess -- \n",
      "π \n",
      " [0.33189715 0.33514847 0.33295438] \n",
      "\n",
      " μ \n",
      " [0.29381413 0.29157934 0.29450414] \n",
      "\n",
      " σ \n",
      " [1.30715395 1.30715395 1.30715395] \n",
      "\n",
      " λ \n",
      " [0.34292348 0.33769664 0.33921987] \n",
      "\n",
      " ψ \n",
      " [[0.20067496 0.1988925  0.19984942 0.20052189 0.20006122]\n",
      " [0.20067496 0.1988925  0.19984942 0.20052189 0.20006122]\n",
      " [0.20067496 0.1988925  0.19984942 0.20052189 0.20006122]]\n",
      "\n",
      "\n",
      "   -- estimated parameters -- \n",
      "π \n",
      " [0.25903002 0.23757443 0.50339555] \n",
      "\n",
      " μ \n",
      " [ 2.00939526 -0.99629781  0.01972575] \n",
      "\n",
      " σ \n",
      " [0.51259838 0.09074229 0.93811457] \n",
      "\n",
      " λ \n",
      " [20.89015983  0.09778432  1.01798362] \n",
      "\n",
      " ψ \n",
      " [[2.24361008e-01 1.77941483e-01 2.32163902e-01 1.96245679e-01\n",
      "  1.69287927e-01]\n",
      " [1.09658690e-01 1.94011548e-01 6.96329762e-01 5.84149078e-11\n",
      "  9.70374466e-36]\n",
      " [4.13864472e-77 1.40315750e-80 4.83457408e-01 2.63278473e-01\n",
      "  2.53264119e-01]]\n"
     ]
    }
   ],
   "source": [
    "# fitting the parameters using 3 classes\n",
    "Kfit=3\n",
    "print('-------- Kfit = ', Kfit, '-------- ')\n",
    "\n",
    "# generate an initial guess\n",
    "pi0, mu0, sigma0, lambda0, fi0 = InitialGuess(x,Kfit)\n",
    "    \n",
    "print('   -- initial guess -- ')\n",
    "print('\\u03C0','\\n',pi0,'\\n\\n','\\u03BC','\\n',mu0,'\\n\\n','\\u03C3','\\n',sigma0,'\\n\\n','\\u03BB','\\n',lambda0,'\\n\\n','\\u03C8','\\n',fi0)\n",
    "\n",
    "# use EM to update the estimate\n",
    "pi1, mu1, sigma1, lambda1, fi1 = EM(x,pi0,mu0,sigma0,lambda0,fi0)\n",
    "\n",
    "print('\\n')\n",
    "print('   -- estimated parameters -- ')\n",
    "print('\\u03C0','\\n',pi1,'\\n\\n','\\u03BC','\\n',mu1,'\\n\\n','\\u03C3','\\n',sigma1,'\\n\\n','\\u03BB','\\n',lambda1,'\\n\\n','\\u03C8','\\n',fi1)"
   ]
  },
  {
   "cell_type": "code",
   "execution_count": 32,
   "id": "c1bb3f64",
   "metadata": {},
   "outputs": [
    {
     "name": "stdout",
     "output_type": "stream",
     "text": [
      "-------- Kfit =  10 -------- \n",
      "   -- initial guess -- \n",
      "π \n",
      " [0.10009281 0.10000779 0.09949194 0.10062877 0.09945955 0.09985441\n",
      " 0.09989552 0.09993292 0.10020599 0.1004303 ] \n",
      "\n",
      " μ \n",
      " [0.29329616 0.2919144  0.291144   0.29120655 0.29535399 0.29126436\n",
      " 0.29416128 0.29543226 0.29464074 0.29118202] \n",
      "\n",
      " σ \n",
      " [1.30715395 1.30715395 1.30715395 1.30715395 1.30715395 1.30715395\n",
      " 1.30715395 1.30715395 1.30715395 1.30715395] \n",
      "\n",
      " λ \n",
      " [0.33953108 0.33936304 0.34309323 0.34336372 0.3380088  0.34155707\n",
      " 0.34387085 0.34007914 0.33794225 0.34197253] \n",
      "\n",
      " ψ \n",
      " [[0.19885093 0.20016195 0.19852606 0.20108146 0.20137959]\n",
      " [0.19885093 0.20016195 0.19852606 0.20108146 0.20137959]\n",
      " [0.19885093 0.20016195 0.19852606 0.20108146 0.20137959]\n",
      " [0.19885093 0.20016195 0.19852606 0.20108146 0.20137959]\n",
      " [0.19885093 0.20016195 0.19852606 0.20108146 0.20137959]\n",
      " [0.19885093 0.20016195 0.19852606 0.20108146 0.20137959]\n",
      " [0.19885093 0.20016195 0.19852606 0.20108146 0.20137959]\n",
      " [0.19885093 0.20016195 0.19852606 0.20108146 0.20137959]\n",
      " [0.19885093 0.20016195 0.19852606 0.20108146 0.20137959]\n",
      " [0.19885093 0.20016195 0.19852606 0.20108146 0.20137959]]\n",
      "\n",
      "\n",
      "   -- estimated parameters -- \n",
      "π \n",
      " [0.08019749 0.09024335 0.06544111 0.02661579 0.120573   0.08897943\n",
      " 0.25138341 0.0857253  0.1093239  0.08151722] \n",
      "\n",
      " μ \n",
      " [-0.4536654  -0.96539375  0.55124153  0.92325115 -1.00409272  0.38237912\n",
      "  2.01515496  0.12257148 -0.98840258  0.42444462] \n",
      "\n",
      " σ \n",
      " [0.49070231 0.35193218 0.67902395 0.9163207  0.1043039  0.8646258\n",
      " 0.50725031 1.15567203 0.0669473  0.72681066] \n",
      "\n",
      " λ \n",
      " [ 0.78857768  1.10568453  1.45338921  4.00071576  0.08803132  0.91362506\n",
      " 21.60554306  0.87794476  0.10445696  1.03764849] \n",
      "\n",
      " ψ \n",
      " [[9.39319970e-66 1.33409198e-75 6.25561994e-01 1.76117067e-02\n",
      "  3.56826299e-01]\n",
      " [1.36846308e-29 2.23112619e-34 4.07534741e-01 4.64456894e-01\n",
      "  1.28008365e-01]\n",
      " [4.48770655e-75 5.26864843e-86 1.71544765e-01 8.10897089e-01\n",
      "  1.75581460e-02]\n",
      " [5.82069249e-35 6.64660787e-44 9.93493263e-01 6.50169149e-03\n",
      "  5.04536107e-06]\n",
      " [1.35368448e-01 3.41328120e-01 5.23303432e-01 1.61104873e-27\n",
      "  2.64472451e-50]\n",
      " [3.40490855e-83 9.79660807e-94 5.50427145e-01 1.04677433e-01\n",
      "  3.44895422e-01]\n",
      " [2.31185641e-01 1.83354123e-01 2.15510498e-01 1.95872094e-01\n",
      "  1.74077643e-01]\n",
      " [6.33793096e-77 3.46311577e-84 5.57868744e-01 4.69421355e-02\n",
      "  3.95189121e-01]\n",
      " [8.90045291e-02 4.51614877e-02 8.65833983e-01 6.96602066e-24\n",
      "  4.88582968e-45]\n",
      " [1.22511083e-84 3.48843193e-96 4.36654371e-01 2.97162417e-01\n",
      "  2.66183212e-01]]\n"
     ]
    }
   ],
   "source": [
    "# fitting the parameters using 10 classes\n",
    "Kfit=10\n",
    "print('-------- Kfit = ', Kfit, '-------- ')\n",
    "\n",
    "# generate an initial guess\n",
    "pi0, mu0, sigma0, lambda0, fi0 = InitialGuess(x,Kfit)\n",
    "    \n",
    "print('   -- initial guess -- ')\n",
    "print('\\u03C0','\\n',pi0,'\\n\\n','\\u03BC','\\n',mu0,'\\n\\n','\\u03C3','\\n',sigma0,'\\n\\n','\\u03BB','\\n',lambda0,'\\n\\n','\\u03C8','\\n',fi0)\n",
    "\n",
    "# use EM to update the estimate\n",
    "pi1, mu1, sigma1, lambda1, fi1 = EM(x,pi0,mu0,sigma0,lambda0,fi0)\n",
    "\n",
    "print('\\n')\n",
    "print('   -- estimated parameters -- ')\n",
    "print('\\u03C0','\\n',pi1,'\\n\\n','\\u03BC','\\n',mu1,'\\n\\n','\\u03C3','\\n',sigma1,'\\n\\n','\\u03BB','\\n',lambda1,'\\n\\n','\\u03C8','\\n',fi1)"
   ]
  },
  {
   "cell_type": "markdown",
   "id": "b52a16e1",
   "metadata": {},
   "source": [
    "We also implement a function to calculate the posterior probability using the updated parameters."
   ]
  },
  {
   "cell_type": "code",
   "execution_count": 34,
   "id": "f527b542",
   "metadata": {},
   "outputs": [],
   "source": [
    "bins = np.zeros((2,100))\n",
    "bins[0,:] = np.linspace(-4,4,100)\n",
    "bins[1,:] = np.logspace(-4,3,100)"
   ]
  },
  {
   "cell_type": "code",
   "execution_count": 48,
   "id": "08ac2244",
   "metadata": {},
   "outputs": [
    {
     "data": {
      "text/html": [
       "<div>\n",
       "<style scoped>\n",
       "    .dataframe tbody tr th:only-of-type {\n",
       "        vertical-align: middle;\n",
       "    }\n",
       "\n",
       "    .dataframe tbody tr th {\n",
       "        vertical-align: top;\n",
       "    }\n",
       "\n",
       "    .dataframe thead th {\n",
       "        text-align: right;\n",
       "    }\n",
       "</style>\n",
       "<table border=\"1\" class=\"dataframe\">\n",
       "  <thead>\n",
       "    <tr style=\"text-align: right;\">\n",
       "      <th></th>\n",
       "      <th>X1</th>\n",
       "      <th>X2</th>\n",
       "      <th>X3</th>\n",
       "    </tr>\n",
       "  </thead>\n",
       "  <tbody>\n",
       "    <tr>\n",
       "      <th>0</th>\n",
       "      <td>2.9169</td>\n",
       "      <td>0.1032</td>\n",
       "      <td>5</td>\n",
       "    </tr>\n",
       "    <tr>\n",
       "      <th>1</th>\n",
       "      <td>-1.3077</td>\n",
       "      <td>1.2783</td>\n",
       "      <td>4</td>\n",
       "    </tr>\n",
       "    <tr>\n",
       "      <th>2</th>\n",
       "      <td>3.3847</td>\n",
       "      <td>0.0924</td>\n",
       "      <td>5</td>\n",
       "    </tr>\n",
       "    <tr>\n",
       "      <th>3</th>\n",
       "      <td>1.9685</td>\n",
       "      <td>0.0111</td>\n",
       "      <td>1</td>\n",
       "    </tr>\n",
       "    <tr>\n",
       "      <th>4</th>\n",
       "      <td>1.4897</td>\n",
       "      <td>0.2329</td>\n",
       "      <td>5</td>\n",
       "    </tr>\n",
       "    <tr>\n",
       "      <th>...</th>\n",
       "      <td>...</td>\n",
       "      <td>...</td>\n",
       "      <td>...</td>\n",
       "    </tr>\n",
       "    <tr>\n",
       "      <th>995</th>\n",
       "      <td>-0.8890</td>\n",
       "      <td>2.6483</td>\n",
       "      <td>3</td>\n",
       "    </tr>\n",
       "    <tr>\n",
       "      <th>996</th>\n",
       "      <td>-0.8361</td>\n",
       "      <td>4.4317</td>\n",
       "      <td>2</td>\n",
       "    </tr>\n",
       "    <tr>\n",
       "      <th>997</th>\n",
       "      <td>0.9295</td>\n",
       "      <td>0.2163</td>\n",
       "      <td>3</td>\n",
       "    </tr>\n",
       "    <tr>\n",
       "      <th>998</th>\n",
       "      <td>-0.6568</td>\n",
       "      <td>0.0804</td>\n",
       "      <td>3</td>\n",
       "    </tr>\n",
       "    <tr>\n",
       "      <th>999</th>\n",
       "      <td>1.6877</td>\n",
       "      <td>0.0065</td>\n",
       "      <td>1</td>\n",
       "    </tr>\n",
       "  </tbody>\n",
       "</table>\n",
       "<p>998 rows × 3 columns</p>\n",
       "</div>"
      ],
      "text/plain": [
       "         X1      X2  X3\n",
       "0    2.9169  0.1032   5\n",
       "1   -1.3077  1.2783   4\n",
       "2    3.3847  0.0924   5\n",
       "3    1.9685  0.0111   1\n",
       "4    1.4897  0.2329   5\n",
       "..      ...     ...  ..\n",
       "995 -0.8890  2.6483   3\n",
       "996 -0.8361  4.4317   2\n",
       "997  0.9295  0.2163   3\n",
       "998 -0.6568  0.0804   3\n",
       "999  1.6877  0.0065   1\n",
       "\n",
       "[998 rows x 3 columns]"
      ]
     },
     "execution_count": 48,
     "metadata": {},
     "output_type": "execute_result"
    }
   ],
   "source": [
    "x"
   ]
  },
  {
   "cell_type": "code",
   "execution_count": 44,
   "id": "9d9818ee",
   "metadata": {},
   "outputs": [],
   "source": [
    "def Posterior_EM(pi,mu,sigma,lmbda,bins):\n",
    "    K = pi.size\n",
    "    \n",
    "    p = np.zeros((K,bins.shape[1],bins.shape[1]))\n",
    "    \n",
    "    for i in range(0,bins.shape[1]):\n",
    "        for j in range(0,bins.shape[1]):\n",
    "                 \n",
    "            denom = 0\n",
    "            # for every quantile, calculate the probability of it being in a certain class\n",
    "            # divide by the sum of probabilities for that point, across that class\n",
    "            # what results is the probability of the point (i,j) being in class k\n",
    "            for k in range(0,K):\n",
    "                 p[k,i,j] = st.norm.pdf(bins[0,i],loc=mu[k],scale=sigma[k])*(lmbda[k]*np.exp(-lmbda[k]*bins[1,j]))\n",
    "                 denom += p[k,i,j]\n",
    "\n",
    "            for k in range(0,K):\n",
    "                 p[k,i,j] /= denom\n",
    "                 \n",
    "    return p"
   ]
  },
  {
   "cell_type": "code",
   "execution_count": 45,
   "id": "758654b3",
   "metadata": {},
   "outputs": [],
   "source": [
    "# calculate the posterior probability based on the updated parameters\n",
    "p = Posterior_EM(pi0,mu0,sigma0,lambda0,bins)"
   ]
  },
  {
   "cell_type": "code",
   "execution_count": 55,
   "id": "ce8ef935",
   "metadata": {},
   "outputs": [
    {
     "data": {
      "image/png": "[encoded data removed]",
      "text/plain": [
       "<Figure size 1080x360 with 1 Axes>"
      ]
     },
     "metadata": {
      "needs_background": "light"
     },
     "output_type": "display_data"
    }
   ],
   "source": [
    "fig = plt.figure()\n",
    "ax = plt.gca()\n",
    "ax.set_yscale('log')\n",
    "plt.scatter(x.iloc[:,0],x.iloc[:,1],s=1)\n",
    "plt.xlabel(r'$x_1$')    \n",
    "plt.ylabel(r'$x_2$')\n",
    "plt.contourf(bins[0,:],bins[1,:],np.argmax(p,axis=0).T, alpha=0.25);"
   ]
  },
  {
   "cell_type": "markdown",
   "id": "baa90b78",
   "metadata": {},
   "source": [
    "#### 5.2.2 Implement EM using $X_1$ and $X_2$ Features"
   ]
  },
  {
   "cell_type": "markdown",
   "id": "698b8f50",
   "metadata": {},
   "source": [
    "The first step in EM Algorithm is to have an initial guess of the parameters."
   ]
  },
  {
   "cell_type": "code",
   "execution_count": 33,
   "id": "09440436",
   "metadata": {},
   "outputs": [],
   "source": [
    "def InitialGuess2(x,K):\n",
    "    # generate an initial guess depending on the number of classes that are specified\n",
    "    \n",
    "    pi_h = np.ones(K)/K\n",
    "    mu_h = np.mean(x.iloc[:,0])\n",
    "    sigma_h = np.std(x.iloc[:,0])\n",
    "    lambda_h = 1.0/np.mean(x.iloc[:,1])\n",
    "    \n",
    "    pi0 = pi_h*np.random.uniform(0.99,1.01,K)\n",
    "    pi0 = pi0 / sum(pi0)\n",
    "    \n",
    "    mu0 = np.tile(mu_h,K) * np.random.uniform(0.99,1.01,K)\n",
    "    sigma0 = np.tile(sigma_h,K)\n",
    "    lambda0 = np.tile(lambda_h,K)*np.random.uniform(0.99,1.01,K)\n",
    "    \n",
    "    return pi0, mu0, sigma0, lambda0"
   ]
  },
  {
   "cell_type": "markdown",
   "id": "1ff015dc",
   "metadata": {},
   "source": [
    "The second step in EM Algorithm is to calculate the responsibilities."
   ]
  },
  {
   "cell_type": "code",
   "execution_count": 34,
   "id": "1852c62e",
   "metadata": {},
   "outputs": [],
   "source": [
    "def Responsibilities2(x,pi,mu,sigma,lmbda):\n",
    "    K = pi.size\n",
    "    g = np.zeros((K,x.shape[0]))\n",
    "    \n",
    "    for j in range(0,x.shape[0]):\n",
    "        \n",
    "        denom = 0\n",
    "    \n",
    "        for k in range(0,K):\n",
    "            \n",
    "            g[k,j] = pi[k]*st.norm.pdf(x.iloc[j,0],loc=mu[k],scale=sigma[k])*(lmbda[k]*np.exp(-lmbda[k]*x.iloc[j,1]))\n",
    "            denom += g[k,j]\n",
    "            \n",
    "        for k in range(0,K):\n",
    "            g[k,j] /= denom\n",
    "    \n",
    "    return g"
   ]
  },
  {
   "cell_type": "markdown",
   "id": "6f664858",
   "metadata": {},
   "source": [
    "The m-step update rules are based on the derivations in Section 5.1."
   ]
  },
  {
   "cell_type": "code",
   "execution_count": 35,
   "id": "2270bbbe",
   "metadata": {},
   "outputs": [],
   "source": [
    "def EM2(x,pi,mu,sigma,lmbda):\n",
    "    \n",
    "    K = pi.size\n",
    "    iteration = 100\n",
    "    \n",
    "    for m in range(iteration):\n",
    "        \n",
    "        # e-step\n",
    "        gamma = Responsibilities2(x,pi,mu,sigma,lmbda)\n",
    "        \n",
    "        # compute update to pi\n",
    "        numer = np.sum(gamma,axis=1)\n",
    "        denom = np.sum(numer)\n",
    "        pi = numer / denom\n",
    "        \n",
    "        # compute update to mu\n",
    "        numer2 = np.matmul(gamma,x.iloc[:,0])\n",
    "        denom2 = np.sum(gamma,axis=1)\n",
    "        for k in range(0,K):\n",
    "            mu[k] = numer2[k]/denom2[k]\n",
    "        \n",
    "        # compute update to sigma\n",
    "        denom3 = np.sum(gamma,axis=1)\n",
    "        for k in range(0,K):\n",
    "            sigma[k] = np.sqrt(np.matmul(gamma[k,:],(np.subtract(x.iloc[:,0],mu[k]))**2)/denom3[k])\n",
    "        \n",
    "        # compute update to lambda\n",
    "        numer4 = np.sum(gamma,axis=1)\n",
    "        denom4 = np.matmul(gamma,x.iloc[:,1])\n",
    "        for k in range(0,K):\n",
    "            lmbda[k] = numer4[k]/denom4[k]\n",
    "                \n",
    "    return pi, mu, sigma, lmbda"
   ]
  },
  {
   "cell_type": "code",
   "execution_count": 36,
   "id": "b2932536",
   "metadata": {},
   "outputs": [
    {
     "name": "stdout",
     "output_type": "stream",
     "text": [
      "-------- Kfit =  3 -------- \n",
      "   -- initial guess -- \n",
      "π \n",
      " [0.33469677 0.33210031 0.33320292] \n",
      "\n",
      " μ \n",
      " [0.29474331 0.29145693 0.2946765 ] \n",
      "\n",
      " σ \n",
      " [1.30715395 1.30715395 1.30715395] \n",
      "\n",
      " λ \n",
      " [0.33763197 0.34117403 0.34024447] \n",
      "\n",
      "\n",
      "   -- estimated parameters -- \n",
      "π \n",
      " [0.24727526 0.26067781 0.49204693] \n",
      "\n",
      " μ \n",
      " [-0.99428837  2.00484433  0.03449496] \n",
      "\n",
      " σ \n",
      " [0.09170384 0.51857616 0.93475462] \n",
      "\n",
      " λ \n",
      " [ 0.10123122 20.3993263   1.02292028] \n",
      "\n",
      "\n"
     ]
    }
   ],
   "source": [
    "# fitting the parameters using 3 classes\n",
    "Kfit=3\n",
    "print('-------- Kfit = ', Kfit, '-------- ')\n",
    "\n",
    "# generate an initial guess\n",
    "pi0, mu0, sigma0, lambda0 = InitialGuess2(x,Kfit)\n",
    "    \n",
    "print('   -- initial guess -- ')\n",
    "print('\\u03C0','\\n',pi0,'\\n\\n','\\u03BC','\\n',mu0,'\\n\\n','\\u03C3','\\n',sigma0,'\\n\\n','\\u03BB','\\n',lambda0,'\\n\\n')\n",
    "\n",
    "# use EM to update the estimate\n",
    "pi1, mu1, sigma1, lambda1= EM2(x,pi0,mu0,sigma0,lambda0)\n",
    "print('   -- estimated parameters -- ')\n",
    "print('\\u03C0','\\n',pi1,'\\n\\n','\\u03BC','\\n',mu1,'\\n\\n','\\u03C3','\\n',sigma1,'\\n\\n','\\u03BB','\\n',lambda1,'\\n\\n')"
   ]
  },
  {
   "cell_type": "markdown",
   "id": "f71424b7",
   "metadata": {},
   "source": [
    "#### 5.2.3 Implement EM using $X_1$ and $X_3$ Features"
   ]
  },
  {
   "cell_type": "markdown",
   "id": "2a82391e",
   "metadata": {},
   "source": [
    "The first step in EM Algorithm is to have an initial guess of the parameters."
   ]
  },
  {
   "cell_type": "code",
   "execution_count": 37,
   "id": "b623c3ac",
   "metadata": {},
   "outputs": [],
   "source": [
    "def InitialGuess3(x,K):\n",
    "    # generate an initial guess depending on the number of classes that are specified\n",
    "    \n",
    "    pi_h = np.ones(K)/K\n",
    "    mu_h = np.mean(x.iloc[:,0])\n",
    "    sigma_h = np.std(x.iloc[:,0])\n",
    "    fi_h = np.ones(5)/5\n",
    "    \n",
    "    pi0 = pi_h*np.random.uniform(0.99,1.01,K)\n",
    "    pi0 = pi0 / sum(pi0)\n",
    "    fi0 = fi_h*np.random.uniform(0.99,1.01,5)\n",
    "    fi0 = fi0 / sum(fi0)\n",
    "    fi0 = np.tile(fi0,(K,1))\n",
    "    \n",
    "    mu0 = np.tile(mu_h,K) * np.random.uniform(0.99,1.01,K)\n",
    "    sigma0 = np.tile(sigma_h,K)\n",
    "    \n",
    "    return pi0, mu0, sigma0, fi0"
   ]
  },
  {
   "cell_type": "markdown",
   "id": "0dabb8d0",
   "metadata": {},
   "source": [
    "The second step in EM Algorithm is to calculate the responsibilities."
   ]
  },
  {
   "cell_type": "code",
   "execution_count": 38,
   "id": "5d89ea50",
   "metadata": {},
   "outputs": [],
   "source": [
    "def Responsibilities3(x,pi,mu,sigma,fi):\n",
    "    K = pi.size\n",
    "    g = np.zeros((K,x.shape[0]))\n",
    "    \n",
    "    for j in range(0,x.shape[0]):\n",
    "        \n",
    "        denom = 0\n",
    "    \n",
    "        for k in range(0,K):\n",
    "            \n",
    "            g[k,j] = pi[k]*st.norm.pdf(x.iloc[j,0],loc=mu[k],scale=sigma[k])*fi[k,x.iloc[j,2]-1]\n",
    "            denom += g[k,j]\n",
    "            \n",
    "        for k in range(0,K):\n",
    "            g[k,j] /= denom\n",
    "    \n",
    "    return g"
   ]
  },
  {
   "cell_type": "markdown",
   "id": "ef99133a",
   "metadata": {},
   "source": [
    "The m-step update rules are based on the derivations in Section 5.1."
   ]
  },
  {
   "cell_type": "code",
   "execution_count": 39,
   "id": "58aeb92b",
   "metadata": {},
   "outputs": [],
   "source": [
    "def EM3(x,pi,mu,sigma,fi):\n",
    "    \n",
    "    K = pi.size\n",
    "    iteration = 100\n",
    "    \n",
    "    for m in range(iteration):\n",
    "        \n",
    "        # e-step\n",
    "        gamma = Responsibilities3(x,pi,mu,sigma,fi)\n",
    "        \n",
    "        # compute update to pi\n",
    "        numer = np.sum(gamma,axis=1)\n",
    "        denom = np.sum(numer)\n",
    "        pi = numer / denom\n",
    "        \n",
    "        # compute update to mu\n",
    "        numer2 = np.matmul(gamma,x.iloc[:,0])\n",
    "        denom2 = np.sum(gamma,axis=1)\n",
    "        for k in range(0,K):\n",
    "            mu[k] = numer2[k]/denom2[k]\n",
    "        \n",
    "        # compute update to sigma\n",
    "        denom3 = np.sum(gamma,axis=1)\n",
    "        for k in range(0,K):\n",
    "            sigma[k] = np.sqrt(np.matmul(gamma[k,:],(np.subtract(x.iloc[:,0],mu[k]))**2)/denom3[k])\n",
    "        \n",
    "        # extract each category's data index\n",
    "        category1 = []\n",
    "        category2 = []\n",
    "        category3 = []\n",
    "        category4 = []\n",
    "        category5 = []\n",
    "        for j in range(x.shape[0]):\n",
    "            if x.iloc[j,2] == 1:\n",
    "                category1.append(j)\n",
    "            if x.iloc[j,2] == 2:\n",
    "                category2.append(j)\n",
    "            if x.iloc[j,2] == 3:\n",
    "                category3.append(j)\n",
    "            if x.iloc[j,2] == 4:\n",
    "                category4.append(j)\n",
    "            if x.iloc[j,2] == 5:\n",
    "                category5.append(j)\n",
    "        \n",
    "        # compute update to fi when category is 1\n",
    "        denom5 = np.sum(gamma,axis=1)\n",
    "        for k in range(0,K):\n",
    "            numer5 = 0\n",
    "            for index in category1:\n",
    "                numer5 += gamma[k,index]\n",
    "                fi[k,0] = numer5/denom5[k]\n",
    "        \n",
    "        # compute update to fi when category is 2\n",
    "        for k in range(0,K):\n",
    "            numer5 = 0\n",
    "            for index in category2:\n",
    "                numer5 += gamma[k,index]\n",
    "                fi[k,1] = numer5/denom5[k]\n",
    "                \n",
    "        # compute update to fi when category is 3\n",
    "        for k in range(0,K):\n",
    "            numer5 = 0\n",
    "            for index in category3:\n",
    "                numer5 += gamma[k,index]\n",
    "                fi[k,2] = numer5/denom5[k]\n",
    "\n",
    "        # compute update to fi when category is 4\n",
    "        for k in range(0,K):\n",
    "            numer5 = 0\n",
    "            for index in category4:\n",
    "                numer5 += gamma[k,index]\n",
    "                fi[k,3] = numer5/denom5[k]\n",
    "\n",
    "        # compute update to fi when category is 5\n",
    "        for k in range(0,K):\n",
    "            numer5 = 0\n",
    "            for index in category5:\n",
    "                numer5 += gamma[k,index]\n",
    "                fi[k,4] = numer5/denom5[k]\n",
    "                \n",
    "    return pi, mu, sigma, fi"
   ]
  },
  {
   "cell_type": "code",
   "execution_count": 40,
   "id": "b6c0ec6e",
   "metadata": {},
   "outputs": [
    {
     "name": "stdout",
     "output_type": "stream",
     "text": [
      "-------- Kfit =  3 -------- \n",
      "   -- initial guess -- \n",
      "π \n",
      " [0.33285515 0.33273686 0.33440799] \n",
      "\n",
      " μ \n",
      " [0.29528213 0.294636   0.29555099] \n",
      "\n",
      " σ \n",
      " [1.30715395 1.30715395 1.30715395] \n",
      "\n",
      " ψ \n",
      " [[0.20036314 0.20183035 0.19954138 0.19956435 0.19870077]\n",
      " [0.20036314 0.20183035 0.19954138 0.19956435 0.19870077]\n",
      " [0.20036314 0.20183035 0.19954138 0.19956435 0.19870077]]\n",
      "\n",
      "\n",
      "   -- estimated parameters -- \n",
      "π \n",
      " [0.45649613 0.25506314 0.28844072] \n",
      "\n",
      " μ \n",
      " [-0.04126551 -0.99639219  1.96473341] \n",
      "\n",
      " σ \n",
      " [0.86773136 0.09412538 0.53159117] \n",
      "\n",
      " ψ \n",
      " [[4.43337303e-38 1.64995418e-37 4.85455259e-01 2.58240509e-01\n",
      "  2.56304232e-01]\n",
      " [1.02139796e-01 1.80708893e-01 6.68894460e-01 3.26959231e-02\n",
      "  1.55609272e-02]\n",
      " [2.01484168e-01 1.59797791e-01 2.65978753e-01 1.98104532e-01\n",
      "  1.74634755e-01]]\n"
     ]
    }
   ],
   "source": [
    "# fitting the parameters using 3 classes\n",
    "Kfit=3\n",
    "print('-------- Kfit = ', Kfit, '-------- ')\n",
    "\n",
    "# generate an initial guess    \n",
    "pi0, mu0, sigma0, fi0 = InitialGuess3(x,Kfit)\n",
    "    \n",
    "print('   -- initial guess -- ')\n",
    "print('\\u03C0','\\n',pi0,'\\n\\n','\\u03BC','\\n',mu0,'\\n\\n','\\u03C3','\\n',sigma0,'\\n\\n','\\u03C8','\\n',fi0)\n",
    "\n",
    "# use EM to update the estimate\n",
    "pi1, mu1, sigma1, fi1 = EM3(x,pi0,mu0,sigma0,fi0)\n",
    "\n",
    "print('\\n')\n",
    "print('   -- estimated parameters -- ')\n",
    "print('\\u03C0','\\n',pi1,'\\n\\n','\\u03BC','\\n',mu1,'\\n\\n','\\u03C3','\\n',sigma1,'\\n\\n','\\u03C8','\\n',fi1)"
   ]
  },
  {
   "cell_type": "markdown",
   "id": "e856bce7",
   "metadata": {},
   "source": [
    "#### 5.2.4 Implement EM using $X_2$ and $X_3$ Features"
   ]
  },
  {
   "cell_type": "markdown",
   "id": "82df765f",
   "metadata": {},
   "source": [
    "The first step in EM Algorithm is to have an initial guess of the parameters."
   ]
  },
  {
   "cell_type": "code",
   "execution_count": 41,
   "id": "035f5a14",
   "metadata": {},
   "outputs": [],
   "source": [
    "def InitialGuess4(x,K):\n",
    "    # generate an initial guess depending on the number of classes that are specified\n",
    "    \n",
    "    pi_h = np.ones(K)/K\n",
    "    lambda_h = 1.0/np.mean(x.iloc[:,1])\n",
    "    fi_h = np.ones(5)/5\n",
    "    \n",
    "    pi0 = pi_h*np.random.uniform(0.99,1.01,K)\n",
    "    pi0 = pi0 / sum(pi0)\n",
    "    fi0 = fi_h*np.random.uniform(0.99,1.01,5)\n",
    "    fi0 = fi0 / sum(fi0)\n",
    "    fi0 = np.tile(fi0,(K,1))\n",
    "\n",
    "    lambda0 = np.tile(lambda_h,K)*np.random.uniform(0.99,1.01,K)\n",
    "    \n",
    "    return pi0, lambda0, fi0"
   ]
  },
  {
   "cell_type": "markdown",
   "id": "0a7615dc",
   "metadata": {},
   "source": [
    "The second step in EM Algorithm is to calculate the responsibilities."
   ]
  },
  {
   "cell_type": "code",
   "execution_count": 42,
   "id": "0358c9f1",
   "metadata": {},
   "outputs": [],
   "source": [
    "def Responsibilities4(x,pi,lmbda,fi):\n",
    "    K = pi.size\n",
    "    g = np.zeros((K,x.shape[0]))\n",
    "    \n",
    "    for j in range(0,x.shape[0]):\n",
    "        \n",
    "        denom = 0\n",
    "    \n",
    "        for k in range(0,K):\n",
    "            \n",
    "            g[k,j] = pi[k]*(lmbda[k]*np.exp(-lmbda[k]*x.iloc[j,1]))*fi[k,x.iloc[j,2]-1]\n",
    "            denom += g[k,j]\n",
    "            \n",
    "        for k in range(0,K):\n",
    "            g[k,j] /= denom\n",
    "    \n",
    "    return g"
   ]
  },
  {
   "cell_type": "markdown",
   "id": "13c41514",
   "metadata": {},
   "source": [
    "The m-step update rules are based on the derivations in Section 5.1."
   ]
  },
  {
   "cell_type": "code",
   "execution_count": 43,
   "id": "41b3ee84",
   "metadata": {},
   "outputs": [],
   "source": [
    "def EM4(x,pi,lmbda,fi):\n",
    "    \n",
    "    K = pi.size\n",
    "    iteration = 100\n",
    "    \n",
    "    for m in range(iteration):\n",
    "        \n",
    "        # e-step\n",
    "        gamma = Responsibilities4(x,pi,lmbda,fi)\n",
    "        \n",
    "        # compute update to pi\n",
    "        numer = np.sum(gamma,axis=1)\n",
    "        denom = np.sum(numer)\n",
    "        pi = numer / denom\n",
    "        \n",
    "        # compute update to lambda\n",
    "        numer4 = np.sum(gamma,axis=1)\n",
    "        denom4 = np.matmul(gamma,x.iloc[:,1])\n",
    "        for k in range(0,K):\n",
    "            lmbda[k] = numer4[k]/denom4[k]\n",
    "        \n",
    "        # extract each category's data index\n",
    "        category1 = []\n",
    "        category2 = []\n",
    "        category3 = []\n",
    "        category4 = []\n",
    "        category5 = []\n",
    "        for j in range(x.shape[0]):\n",
    "            if x.iloc[j,2] == 1:\n",
    "                category1.append(j)\n",
    "            if x.iloc[j,2] == 2:\n",
    "                category2.append(j)\n",
    "            if x.iloc[j,2] == 3:\n",
    "                category3.append(j)\n",
    "            if x.iloc[j,2] == 4:\n",
    "                category4.append(j)\n",
    "            if x.iloc[j,2] == 5:\n",
    "                category5.append(j)\n",
    "        \n",
    "        # compute update to fi when category is 1\n",
    "        denom5 = np.sum(gamma,axis=1)\n",
    "        for k in range(0,K):\n",
    "            numer5 = 0\n",
    "            for index in category1:\n",
    "                numer5 += gamma[k,index]\n",
    "                fi[k,0] = numer5/denom5[k]\n",
    "        \n",
    "        # compute update to fi when category is 2\n",
    "        for k in range(0,K):\n",
    "            numer5 = 0\n",
    "            for index in category2:\n",
    "                numer5 += gamma[k,index]\n",
    "                fi[k,1] = numer5/denom5[k]\n",
    "                \n",
    "        # compute update to fi when category is 3\n",
    "        for k in range(0,K):\n",
    "            numer5 = 0\n",
    "            for index in category3:\n",
    "                numer5 += gamma[k,index]\n",
    "                fi[k,2] = numer5/denom5[k]\n",
    "\n",
    "        # compute update to fi when category is 4\n",
    "        for k in range(0,K):\n",
    "            numer5 = 0\n",
    "            for index in category4:\n",
    "                numer5 += gamma[k,index]\n",
    "                fi[k,3] = numer5/denom5[k]\n",
    "\n",
    "        # compute update to fi when category is 5\n",
    "        for k in range(0,K):\n",
    "            numer5 = 0\n",
    "            for index in category5:\n",
    "                numer5 += gamma[k,index]\n",
    "                fi[k,4] = numer5/denom5[k]\n",
    "                \n",
    "    return pi, lmbda, fi"
   ]
  },
  {
   "cell_type": "code",
   "execution_count": 44,
   "id": "3e2cbadd",
   "metadata": {},
   "outputs": [
    {
     "name": "stdout",
     "output_type": "stream",
     "text": [
      "-------- Kfit =  3 -------- \n",
      "   -- initial guess -- \n",
      "π \n",
      " [0.33303138 0.3348538  0.33211482] \n",
      "\n",
      " λ \n",
      " [0.33769648 0.33796757 0.34056109] \n",
      "\n",
      " ψ \n",
      " [[0.19939559 0.20146859 0.20042223 0.19954377 0.19916983]\n",
      " [0.19939559 0.20146859 0.20042223 0.19954377 0.19916983]\n",
      " [0.19939559 0.20146859 0.20042223 0.19954377 0.19916983]]\n",
      "\n",
      "\n",
      "   -- estimated parameters -- \n",
      "π \n",
      " [0.22601035 0.52395134 0.25003831] \n",
      "\n",
      " λ \n",
      " [ 0.09379641  1.0173983  21.00678662] \n",
      "\n",
      " ψ \n",
      " [[1.07648025e-01 1.99132223e-01 6.93219751e-01 2.28341635e-45\n",
      "  1.25264711e-18]\n",
      " [3.02507833e-03 1.64402366e-21 4.86683252e-01 2.56709999e-01\n",
      "  2.53581670e-01]\n",
      " [2.32979397e-01 1.88684784e-01 2.29023680e-01 1.95422800e-01\n",
      "  1.53889340e-01]]\n"
     ]
    }
   ],
   "source": [
    "# fitting the parameters using 3 classes\n",
    "Kfit=3\n",
    "print('-------- Kfit = ', Kfit, '-------- ')\n",
    "\n",
    "# generate an initial guess\n",
    "pi0, lambda0, fi0 = InitialGuess4(x,Kfit)\n",
    "    \n",
    "print('   -- initial guess -- ')\n",
    "print('\\u03C0','\\n',pi0,'\\n\\n','\\u03BB','\\n',lambda0,'\\n\\n','\\u03C8','\\n',fi0)\n",
    "\n",
    "# use EM to update the estimate\n",
    "pi1, lambda1, fi1, = EM4(x,pi0,lambda0,fi0)\n",
    "\n",
    "print('\\n')\n",
    "print('   -- estimated parameters -- ')\n",
    "print('\\u03C0','\\n',pi1,'\\n\\n','\\u03BB','\\n',lambda1,'\\n\\n','\\u03C8','\\n',fi1)"
   ]
  },
  {
   "cell_type": "markdown",
   "id": "ce8e5315",
   "metadata": {},
   "source": [
    "## 6. Classify the festures with known Lables"
   ]
  },
  {
   "cell_type": "markdown",
   "id": "b3387a9a",
   "metadata": {},
   "source": [
    "In this part, we are going to generate the classification boundaris in dimensions 1 and dimensions 2 for various of dimension 3. \n",
    "\n",
    "For this part, X3 is our known lables and we have five groups.\n",
    "\n",
    "The (posterior) probability that a point in feature space comes from a given class $\\gamma_{k}(x)=\\mathbb P(X=x|Y=k)$ and equals using Bayes rule:\n",
    "\n",
    "$$\\gamma_{k(x)} = \\frac{\\pi_k f_{X1|Y}f_{X2|y}}{\\sum_{k\\epsilon K}\\pi_k f_{X1|Y}f_{X2|y}}$$\n",
    "\n",
    "Where, we know that $X1|Y \\sim N(\\mu_Y;\\sigma^2_Y)$ and $X2|Y \\sim exp(\\lambda_Y)$, thus we will have\n",
    "\n",
    "$$\\gamma_{k(x)} = \\frac{\\pi_k \\frac{1}{\\sqrt{2\\pi}\\sigma}e^{-\\frac{1}{2}(\\frac{x1-\\mu}{\\sigma})^2}\\lambda e^{-\\lambda x2}}{\\sum_{k\\epsilon K}\\pi_k \\frac{1}{\\sqrt{2\\pi}\\sigma}e^{\\frac{-1}{2}(\\frac{x1-\\mu}{\\sigma})^2}\\lambda e^{-\\lambda x2}}$$\n",
    "\n",
    "Our boundary rule is to find $argmax_{y\\epsilon {1,2,3,4,5}}$ {the posterior distribution}\n",
    "\n",
    "Specifically, we need to find $argmax_{y\\epsilon {1,2,3,4,5}}$     $\\gamma_{k(x)}$"
   ]
  },
  {
   "cell_type": "code",
   "execution_count": 45,
   "id": "9a768fa3",
   "metadata": {},
   "outputs": [],
   "source": [
    "# calculate pi\n",
    "count = data_processed[\"X3\"].count()\n",
    "count1 = data_processed[data_processed['X3']==1]\n",
    "count2 = data_processed[data_processed['X3']==2]\n",
    "count3 = data_processed[data_processed['X3']==3]\n",
    "count4 = data_processed[data_processed['X3']==4]\n",
    "count5 = data_processed[data_processed['X3']==5]\n",
    "\n",
    "pi1_f = count1.shape[0]/count\n",
    "pi2_f = count2.shape[0]/count\n",
    "pi3_f = count3.shape[0]/count\n",
    "pi4_f = count4.shape[0]/count\n",
    "pi5_f = count5.shape[0]/count\n",
    "\n",
    "pi_f = [pi1_f, pi2_f, pi3_f, pi4_f, pi5_f]"
   ]
  },
  {
   "cell_type": "code",
   "execution_count": 46,
   "id": "ee63e966",
   "metadata": {},
   "outputs": [],
   "source": [
    "# calculate mu\n",
    "m = data_processed.groupby('X3').mean()\n",
    "mu_f = m.iloc[:, 0]\n",
    "mu_f = list(mu_f)"
   ]
  },
  {
   "cell_type": "code",
   "execution_count": 47,
   "id": "5631ea71",
   "metadata": {},
   "outputs": [],
   "source": [
    "# calculate sigma\n",
    "s = data_processed.groupby('X3').std()\n",
    "std_f = s.iloc[:, 0]\n",
    "std_f = list(std_f)"
   ]
  },
  {
   "cell_type": "code",
   "execution_count": 48,
   "id": "6aa807fb",
   "metadata": {},
   "outputs": [],
   "source": [
    "# calculate lambda\n",
    "mu2_f = m.iloc[:, 1]\n",
    "lmbda_f = list(1/mu2_f)"
   ]
  },
  {
   "cell_type": "code",
   "execution_count": 49,
   "id": "960c293e",
   "metadata": {},
   "outputs": [],
   "source": [
    "x = data_processed.iloc[:,:3]"
   ]
  },
  {
   "cell_type": "code",
   "execution_count": 50,
   "id": "59489f11",
   "metadata": {},
   "outputs": [],
   "source": [
    "# compute the posterior probability of a point in feature space being from a given class\n",
    "def Posterior(x,pi,lmbda,mu,sigma):\n",
    "    K = 5\n",
    "    \n",
    "    p = np.zeros((K,x.shape[0]))\n",
    "    \n",
    "\n",
    "    for j in range(0,x.shape[0]): \n",
    "                 \n",
    "            denom = 0\n",
    "            \n",
    "            for k in range(0,K):\n",
    "                 p[k,j] = pi[k]*(lmbda[k]*np.exp(-x.iloc[j,1]*lmbda[k]))*st.norm.pdf(x.iloc[j,0],loc=mu[k],scale=sigma[k])\n",
    "                 \n",
    "                 denom += p[k,j]\n",
    "\n",
    "            for k in range(0,K):\n",
    "                 p[k,j] /= denom\n",
    "                 \n",
    "    return p"
   ]
  },
  {
   "cell_type": "code",
   "execution_count": 51,
   "id": "6c829b03",
   "metadata": {},
   "outputs": [
    {
     "data": {
      "text/plain": [
       "array([[0.1194973 , 0.04564111, 0.16335027, ..., 0.04465315, 0.02677689,\n",
       "        0.05241352],\n",
       "       [0.04173179, 0.05723274, 0.05287099, ..., 0.02417854, 0.02247315,\n",
       "        0.02294176],\n",
       "       [0.06033168, 0.59407495, 0.04412448, ..., 0.17585554, 0.26455731,\n",
       "        0.10475691],\n",
       "       [0.46367601, 0.13515181, 0.44273145, ..., 0.43460842, 0.40058924,\n",
       "        0.49315217],\n",
       "       [0.31476322, 0.1678994 , 0.29692281, ..., 0.32070435, 0.28560341,\n",
       "        0.32673564]])"
      ]
     },
     "execution_count": 51,
     "metadata": {},
     "output_type": "execute_result"
    }
   ],
   "source": [
    "p = Posterior(x,pi_f,lmbda_f,mu_f,std_f)\n",
    "p"
   ]
  },
  {
   "cell_type": "markdown",
   "id": "7a89bbb0",
   "metadata": {},
   "source": [
    "The result for calssfication is here, it shows the classifiication group of each point"
   ]
  },
  {
   "cell_type": "code",
   "execution_count": 52,
   "id": "15ef99d2",
   "metadata": {},
   "outputs": [
    {
     "data": {
      "text/plain": [
       "array([3, 2, 3, 3, 3, 3, 3, 2, 2, 3, 3, 2, 2, 2, 3, 3, 3, 2, 3, 2, 3, 3,\n",
       "       2, 3, 2, 2, 2, 3, 2, 2, 1, 3, 3, 2, 3, 3, 2, 2, 3, 2, 3, 2, 2, 3,\n",
       "       3, 3, 2, 3, 2, 3, 3, 3, 2, 3, 2, 3, 3, 3, 2, 2, 2, 3, 2, 2, 2, 2,\n",
       "       2, 2, 3, 3, 2, 3, 3, 3, 3, 1, 3, 2, 3, 2, 2, 2, 2, 2, 2, 3, 2, 2,\n",
       "       3, 3, 2, 2, 2, 2, 2, 3, 3, 3, 3, 2, 2, 3, 2, 3, 2, 3, 2, 3, 2, 3,\n",
       "       2, 3, 3, 3, 3, 2, 2, 3, 2, 3, 3, 2, 3, 2, 3, 2, 2, 3, 3, 2, 3, 3,\n",
       "       2, 3, 3, 2, 3, 2, 2, 2, 4, 3, 2, 3, 3, 3, 3, 2, 2, 2, 3, 3, 3, 2,\n",
       "       3, 2, 3, 3, 2, 2, 2, 2, 2, 2, 2, 3, 2, 2, 2, 2, 2, 3, 2, 2, 3, 3,\n",
       "       2, 2, 3, 3, 2, 2, 2, 2, 2, 1, 2, 2, 2, 2, 2, 3, 2, 3, 2, 2, 2, 3,\n",
       "       2, 3, 2, 3, 2, 3, 3, 2, 2, 3, 2, 2, 3, 2, 2, 3, 2, 2, 3, 2, 2, 2,\n",
       "       2, 3, 2, 2, 3, 2, 2, 2, 2, 2, 2, 2, 3, 3, 3, 2, 3, 3, 3, 3, 2, 1,\n",
       "       2, 3, 3, 3, 2, 3, 3, 3, 2, 2, 3, 2, 2, 2, 3, 3, 3, 2, 3, 3, 3, 3,\n",
       "       2, 2, 3, 3, 2, 3, 2, 4, 2, 3, 2, 2, 2, 2, 3, 2, 2, 2, 3, 3, 2, 3,\n",
       "       2, 4, 3, 3, 3, 3, 3, 2, 2, 3, 2, 2, 3, 0, 2, 3, 2, 2, 2, 2, 3, 2,\n",
       "       2, 3, 3, 2, 3, 2, 3, 2, 3, 3, 3, 3, 3, 3, 2, 3, 3, 3, 3, 3, 2, 3,\n",
       "       3, 3, 3, 3, 2, 2, 2, 2, 3, 2, 2, 2, 3, 2, 2, 3, 3, 3, 3, 3, 2, 2,\n",
       "       3, 3, 3, 2, 2, 3, 2, 2, 2, 2, 2, 2, 3, 3, 2, 3, 3, 2, 3, 3, 2, 2,\n",
       "       2, 2, 1, 2, 3, 2, 2, 3, 2, 3, 3, 3, 3, 3, 2, 2, 2, 3, 2, 3, 2, 3,\n",
       "       2, 2, 2, 3, 2, 2, 3, 2, 3, 2, 2, 2, 2, 2, 3, 3, 2, 2, 3, 2, 2, 2,\n",
       "       3, 3, 3, 3, 2, 3, 3, 3, 2, 2, 2, 4, 2, 3, 3, 2, 3, 3, 3, 2, 2, 3,\n",
       "       3, 3, 3, 2, 2, 2, 2, 2, 3, 3, 3, 3, 3, 3, 2, 3, 2, 2, 2, 3, 3, 2,\n",
       "       2, 3, 2, 3, 2, 2, 3, 3, 2, 3, 2, 2, 3, 2, 3, 3, 2, 2, 3, 2, 2, 3,\n",
       "       3, 2, 3, 3, 3, 3, 2, 3, 3, 2, 3, 2, 3, 2, 3, 3, 2, 3, 3, 2, 3, 2,\n",
       "       3, 0, 2, 2, 3, 3, 3, 3, 2, 3, 2, 3, 3, 2, 3, 3, 3, 3, 3, 2, 3, 3,\n",
       "       2, 2, 2, 3, 2, 3, 2, 2, 2, 3, 2, 3, 2, 2, 2, 2, 2, 2, 3, 2, 3, 3,\n",
       "       3, 2, 2, 2, 3, 2, 2, 3, 2, 3, 3, 3, 4, 2, 3, 2, 3, 2, 2, 3, 2, 2,\n",
       "       3, 2, 3, 3, 3, 3, 2, 3, 3, 3, 3, 3, 3, 2, 2, 2, 2, 2, 3, 2, 3, 2,\n",
       "       3, 3, 3, 3, 3, 2, 3, 1, 2, 2, 2, 2, 1, 2, 3, 2, 2, 3, 2, 2, 2, 2,\n",
       "       3, 3, 3, 2, 3, 3, 2, 3, 2, 2, 3, 2, 3, 2, 3, 3, 2, 2, 3, 3, 3, 2,\n",
       "       2, 2, 2, 3, 3, 2, 2, 3, 2, 3, 2, 3, 3, 1, 3, 2, 3, 2, 2, 2, 2, 2,\n",
       "       2, 3, 3, 3, 2, 2, 3, 3, 3, 3, 2, 2, 3, 3, 3, 2, 3, 3, 2, 3, 2, 3,\n",
       "       3, 2, 3, 3, 3, 2, 2, 3, 3, 2, 3, 2, 2, 3, 3, 2, 3, 2, 2, 2, 3, 3,\n",
       "       2, 2, 2, 3, 2, 3, 2, 2, 3, 2, 2, 3, 2, 2, 2, 3, 2, 3, 2, 2, 2, 3,\n",
       "       2, 3, 3, 3, 1, 2, 3, 2, 3, 3, 2, 3, 3, 3, 3, 2, 3, 2, 4, 3, 2, 3,\n",
       "       2, 3, 2, 3, 1, 2, 3, 2, 1, 2, 3, 3, 2, 3, 3, 3, 2, 2, 2, 3, 3, 3,\n",
       "       3, 2, 3, 3, 2, 3, 2, 3, 3, 2, 3, 2, 2, 3, 2, 2, 2, 2, 2, 3, 2, 3,\n",
       "       2, 2, 3, 3, 3, 3, 2, 2, 3, 2, 3, 2, 2, 2, 2, 2, 2, 2, 2, 2, 3, 2,\n",
       "       3, 3, 3, 2, 2, 3, 3, 3, 3, 3, 3, 2, 3, 3, 2, 2, 2, 3, 2, 3, 3, 2,\n",
       "       3, 2, 2, 3, 2, 3, 3, 2, 3, 2, 3, 3, 2, 2, 3, 3, 3, 2, 2, 3, 2, 3,\n",
       "       2, 2, 3, 2, 2, 2, 2, 2, 3, 3, 3, 3, 3, 2, 2, 2, 3, 2, 2, 4, 4, 3,\n",
       "       2, 3, 2, 3, 2, 3, 3, 2, 3, 2, 2, 2, 3, 3, 2, 2, 3, 2, 3, 2, 2, 2,\n",
       "       2, 3, 3, 3, 3, 2, 2, 3, 3, 3, 2, 2, 3, 2, 2, 3, 3, 3, 3, 3, 2, 3,\n",
       "       3, 2, 2, 2, 2, 3, 3, 3, 2, 3, 2, 2, 3, 2, 3, 2, 2, 3, 3, 3, 3, 2,\n",
       "       3, 2, 2, 3, 3, 3, 3, 2, 2, 3, 3, 2, 3, 3, 2, 3, 2, 2, 2, 3, 3, 2,\n",
       "       2, 3, 3, 2, 3, 3, 3, 2, 2, 3, 2, 3, 3, 3, 3, 2, 3, 2, 2, 2, 3, 2,\n",
       "       3, 3, 2, 2, 2, 3, 3, 3])"
      ]
     },
     "execution_count": 52,
     "metadata": {},
     "output_type": "execute_result"
    }
   ],
   "source": [
    "np.argmax(p,axis=0)"
   ]
  },
  {
   "cell_type": "markdown",
   "id": "7a60ce8c",
   "metadata": {},
   "source": [
    "## 7. Model Selection"
   ]
  },
  {
   "cell_type": "markdown",
   "id": "03b26259",
   "metadata": {},
   "source": [
    "In order to apply the BIC criterion to determine the optimal number of hidden states, we first need to implement a function to calculate the log likelihood.\n",
    "\\begin{equation}\n",
    "B I C(\\operatorname{Model} j)=-\\ell_{j}\\left(\\hat{\\theta}_{j}\\right)+\\frac{1}{2} d_{j} \\log (n)\n",
    "\\end{equation}"
   ]
  },
  {
   "cell_type": "code",
   "execution_count": 53,
   "id": "18ff6df6",
   "metadata": {},
   "outputs": [],
   "source": [
    "def loglike(x,pi,mu,sigma,lmbda,fi):    \n",
    "    gamma = Responsibilities(x,pi,mu,sigma,lmbda,fi)\n",
    "    \n",
    "    # fi is a 3*5 matrix\n",
    "    logl = 0\n",
    "    for k in range(pi.shape[0]):\n",
    "        for j in range(x.shape[0]):\n",
    "            if lmbda[k] * np.exp(-x.iloc[j,1]*lmbda[k]) != 0 and st.norm.pdf(x.iloc[j,0], loc=mu[k], scale=sigma[k]) != 0:\n",
    "                logl += gamma[k,j] * (np.log(pi[k])\n",
    "                        + st.norm.logpdf(x.iloc[j,0], loc=mu[k], scale=sigma[k])\n",
    "                        + np.log(lmbda[k] * np.exp(-x.iloc[j,1]*lmbda[k]))\n",
    "                        + np.log(fi[k,x.iloc[j,2]-1]))\n",
    "            \n",
    "    return logl"
   ]
  },
  {
   "cell_type": "code",
   "execution_count": 54,
   "id": "30604dbb",
   "metadata": {},
   "outputs": [],
   "source": [
    "def BIC(x,pi,mu,sigma,lmbda,fi):\n",
    "    K = pi.shape[0]\n",
    "    n = x.shape[0] # Number of Observations\n",
    "    d = x.shape[1] # Number of Feathers\n",
    "    \n",
    "    # number of free parameters\n",
    "    # pi : K\n",
    "    # mu : K*1\n",
    "    # Sigma : K*1\n",
    "    # Lambda : K*1\n",
    "    # Phi: K*(5-1)\n",
    "    return -loglike(x,pi,mu,sigma,lmbda,fi) + 0.5*(K + K*3 + K*4)*np.log(n)"
   ]
  },
  {
   "cell_type": "code",
   "execution_count": 55,
   "id": "6b4b4b7e",
   "metadata": {},
   "outputs": [
    {
     "data": {
      "text/html": [
       "<div>\n",
       "<style scoped>\n",
       "    .dataframe tbody tr th:only-of-type {\n",
       "        vertical-align: middle;\n",
       "    }\n",
       "\n",
       "    .dataframe tbody tr th {\n",
       "        vertical-align: top;\n",
       "    }\n",
       "\n",
       "    .dataframe thead th {\n",
       "        text-align: right;\n",
       "    }\n",
       "</style>\n",
       "<table border=\"1\" class=\"dataframe\">\n",
       "  <thead>\n",
       "    <tr style=\"text-align: right;\">\n",
       "      <th></th>\n",
       "      <th>K</th>\n",
       "      <th>BIC Value</th>\n",
       "    </tr>\n",
       "  </thead>\n",
       "  <tbody>\n",
       "    <tr>\n",
       "      <th>0</th>\n",
       "      <td>3</td>\n",
       "      <td>3649.076526</td>\n",
       "    </tr>\n",
       "    <tr>\n",
       "      <th>1</th>\n",
       "      <td>4</td>\n",
       "      <td>3885.543123</td>\n",
       "    </tr>\n",
       "    <tr>\n",
       "      <th>2</th>\n",
       "      <td>5</td>\n",
       "      <td>4021.737301</td>\n",
       "    </tr>\n",
       "    <tr>\n",
       "      <th>3</th>\n",
       "      <td>6</td>\n",
       "      <td>4198.804740</td>\n",
       "    </tr>\n",
       "    <tr>\n",
       "      <th>4</th>\n",
       "      <td>7</td>\n",
       "      <td>4302.178475</td>\n",
       "    </tr>\n",
       "  </tbody>\n",
       "</table>\n",
       "</div>"
      ],
      "text/plain": [
       "   K    BIC Value\n",
       "0  3  3649.076526\n",
       "1  4  3885.543123\n",
       "2  5  4021.737301\n",
       "3  6  4198.804740\n",
       "4  7  4302.178475"
      ]
     },
     "execution_count": 55,
     "metadata": {},
     "output_type": "execute_result"
    }
   ],
   "source": [
    "# this cell may take very long time to run\n",
    "class_bic = []\n",
    "\n",
    "# largest number of possible classes\n",
    "Kfitmax=7\n",
    "\n",
    "# calculate BIC considering all features\n",
    "for Kfit in range(3,Kfitmax+1):\n",
    "    pi0, mu0, sigma0, lambda0, fi0 = InitialGuess(x,Kfit)\n",
    "    pi1, mu1, sigma1, lambda1, fi1 = EM(x,pi0,mu0,sigma0,lambda0,fi0)\n",
    "    BIC_value = BIC(x,pi1,mu1,sigma1,lambda1,fi1)\n",
    "    class_bic.append((Kfit,BIC_value))\n",
    "\n",
    "class_bic_df = pd.DataFrame(class_bic, columns=[\"K\",\"BIC Value\"])\n",
    "class_bic_df.sort_values('BIC Value')"
   ]
  },
  {
   "cell_type": "markdown",
   "id": "2c93e892",
   "metadata": {},
   "source": [
    "As seen from the above table, class number of 3 provides a lowest BIC value."
   ]
  }
 ],
 "metadata": {
  "kernelspec": {
   "display_name": "Python 3 (ipykernel)",
   "language": "python",
   "name": "python3"
  },
  "language_info": {
   "codemirror_mode": {
    "name": "ipython",
    "version": 3
   },
   "file_extension": ".py",
   "mimetype": "text/x-python",
   "name": "python",
   "nbconvert_exporter": "python",
   "pygments_lexer": "ipython3",
   "version": "3.8.12"
  }
 },
 "nbformat": 4,
 "nbformat_minor": 5
}
